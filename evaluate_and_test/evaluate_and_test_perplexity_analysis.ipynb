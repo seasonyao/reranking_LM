{
 "cells": [
  {
   "cell_type": "code",
   "execution_count": 52,
   "id": "sufficient-cooler",
   "metadata": {},
   "outputs": [
    {
     "data": {
      "text/html": [
       "<div>\n",
       "<style scoped>\n",
       "    .dataframe tbody tr th:only-of-type {\n",
       "        vertical-align: middle;\n",
       "    }\n",
       "\n",
       "    .dataframe tbody tr th {\n",
       "        vertical-align: top;\n",
       "    }\n",
       "\n",
       "    .dataframe thead th {\n",
       "        text-align: right;\n",
       "    }\n",
       "</style>\n",
       "<table border=\"1\" class=\"dataframe\">\n",
       "  <thead>\n",
       "    <tr style=\"text-align: right;\">\n",
       "      <th></th>\n",
       "      <th>rerank_logits</th>\n",
       "      <th>normal_logits</th>\n",
       "      <th>ground_true_difficulty_level</th>\n",
       "      <th>rerank_loss</th>\n",
       "      <th>normal_loss</th>\n",
       "      <th>ground_true</th>\n",
       "      <th>inputs_text</th>\n",
       "      <th>candidate_tokens</th>\n",
       "      <th>entropy_difficulty_level</th>\n",
       "    </tr>\n",
       "  </thead>\n",
       "  <tbody>\n",
       "    <tr>\n",
       "      <th>0</th>\n",
       "      <td>[-0.31323760747909546, -0.3514552414417267, -0...</td>\n",
       "      <td>[7.288956165313721, 7.029998302459717, 6.89305...</td>\n",
       "      <td>0</td>\n",
       "      <td>1.407344</td>\n",
       "      <td>1.353590</td>\n",
       "      <td>.</td>\n",
       "      <td>blacksmith's workshop</td>\n",
       "      <td>[.,  in, ,,  at,  and,  with,  on,  for,  was,...</td>\n",
       "      <td>1.074903</td>\n",
       "    </tr>\n",
       "    <tr>\n",
       "      <th>1</th>\n",
       "      <td>[0.5781433582305908, -0.4996368885040283, 0.32...</td>\n",
       "      <td>[8.005743980407715, 6.383976459503174, 6.17348...</td>\n",
       "      <td>17</td>\n",
       "      <td>5.758543</td>\n",
       "      <td>5.490301</td>\n",
       "      <td>when</td>\n",
       "      <td>high school, back</td>\n",
       "      <td>[ in,  at,  to,  on,  home,  with, -,  and,  i...</td>\n",
       "      <td>0.891999</td>\n",
       "    </tr>\n",
       "    <tr>\n",
       "      <th>2</th>\n",
       "      <td>[-0.6205261945724487, -1.2617223262786865, -1....</td>\n",
       "      <td>[5.97537899017334, 4.827922344207764, 4.663620...</td>\n",
       "      <td>0</td>\n",
       "      <td>1.681026</td>\n",
       "      <td>1.508302</td>\n",
       "      <td>was</td>\n",
       "      <td>mys. The documentary</td>\n",
       "      <td>[ was,  is, ,,  \",  also, 's,  has,  series,  ...</td>\n",
       "      <td>1.582223</td>\n",
       "    </tr>\n",
       "    <tr>\n",
       "      <th>3</th>\n",
       "      <td>[1.8851970434188843, 0.2747272849082947, -2.11...</td>\n",
       "      <td>[10.446430206298828, 7.063143730163574, 4.2140...</td>\n",
       "      <td>0</td>\n",
       "      <td>0.227486</td>\n",
       "      <td>0.041986</td>\n",
       "      <td>II</td>\n",
       "      <td>blacksmith's workshop.His company expanded in...</td>\n",
       "      <td>[ II,  I,  One,  2,  Two,  1,  III,  3,  4,  t...</td>\n",
       "      <td>0.094869</td>\n",
       "    </tr>\n",
       "    <tr>\n",
       "      <th>4</th>\n",
       "      <td>[1.748606562614441, -0.38535428047180176, -0.5...</td>\n",
       "      <td>[8.950237274169922, 6.9351067543029785, 5.7370...</td>\n",
       "      <td>1</td>\n",
       "      <td>2.418952</td>\n",
       "      <td>2.248357</td>\n",
       "      <td>in</td>\n",
       "      <td>mys. The documentary was also awarded a 2010 P...</td>\n",
       "      <td>[.,  in,  from,  and, .\",  of, ,,  that,  on, ...</td>\n",
       "      <td>0.406286</td>\n",
       "    </tr>\n",
       "  </tbody>\n",
       "</table>\n",
       "</div>"
      ],
      "text/plain": [
       "                                       rerank_logits  \\\n",
       "0  [-0.31323760747909546, -0.3514552414417267, -0...   \n",
       "1  [0.5781433582305908, -0.4996368885040283, 0.32...   \n",
       "2  [-0.6205261945724487, -1.2617223262786865, -1....   \n",
       "3  [1.8851970434188843, 0.2747272849082947, -2.11...   \n",
       "4  [1.748606562614441, -0.38535428047180176, -0.5...   \n",
       "\n",
       "                                       normal_logits  \\\n",
       "0  [7.288956165313721, 7.029998302459717, 6.89305...   \n",
       "1  [8.005743980407715, 6.383976459503174, 6.17348...   \n",
       "2  [5.97537899017334, 4.827922344207764, 4.663620...   \n",
       "3  [10.446430206298828, 7.063143730163574, 4.2140...   \n",
       "4  [8.950237274169922, 6.9351067543029785, 5.7370...   \n",
       "\n",
       "   ground_true_difficulty_level  rerank_loss  normal_loss ground_true  \\\n",
       "0                             0     1.407344     1.353590           .   \n",
       "1                            17     5.758543     5.490301        when   \n",
       "2                             0     1.681026     1.508302         was   \n",
       "3                             0     0.227486     0.041986          II   \n",
       "4                             1     2.418952     2.248357          in   \n",
       "\n",
       "                                         inputs_text  \\\n",
       "0                              blacksmith's workshop   \n",
       "1                                  high school, back   \n",
       "2                               mys. The documentary   \n",
       "3   blacksmith's workshop.His company expanded in...   \n",
       "4  mys. The documentary was also awarded a 2010 P...   \n",
       "\n",
       "                                    candidate_tokens  entropy_difficulty_level  \n",
       "0  [.,  in, ,,  at,  and,  with,  on,  for,  was,...                  1.074903  \n",
       "1  [ in,  at,  to,  on,  home,  with, -,  and,  i...                  0.891999  \n",
       "2  [ was,  is, ,,  \",  also, 's,  has,  series,  ...                  1.582223  \n",
       "3  [ II,  I,  One,  2,  Two,  1,  III,  3,  4,  t...                  0.094869  \n",
       "4  [.,  in,  from,  and, .\",  of, ,,  that,  on, ...                  0.406286  "
      ]
     },
     "execution_count": 52,
     "metadata": {},
     "output_type": "execute_result"
    }
   ],
   "source": [
    "import pandas as pd\n",
    "import matplotlib.pyplot as plt\n",
    "%matplotlib inline\n",
    "\n",
    "fine_grained_evaluation = pd.read_pickle(\"/mnt/nfs/work1/llcao/zhiyilai/reranking_LM/results/baseline_wiki2021/canNUM100_not_repeat_candidate/40000/fg_eval.pkl\")\n",
    "\n",
    "fine_grained_evaluation.head()"
   ]
  },
  {
   "cell_type": "code",
   "execution_count": 53,
   "id": "acute-plain",
   "metadata": {},
   "outputs": [
    {
     "name": "stdout",
     "output_type": "stream",
     "text": [
      "<class 'pandas.core.frame.DataFrame'>\n",
      "RangeIndex: 157732 entries, 0 to 157731\n",
      "Data columns (total 9 columns):\n",
      " #   Column                        Non-Null Count   Dtype  \n",
      "---  ------                        --------------   -----  \n",
      " 0   rerank_logits                 157732 non-null  object \n",
      " 1   normal_logits                 157732 non-null  object \n",
      " 2   ground_true_difficulty_level  157732 non-null  int64  \n",
      " 3   rerank_loss                   157732 non-null  float64\n",
      " 4   normal_loss                   157732 non-null  float64\n",
      " 5   ground_true                   157732 non-null  object \n",
      " 6   inputs_text                   157732 non-null  object \n",
      " 7   candidate_tokens              157732 non-null  object \n",
      " 8   entropy_difficulty_level      157732 non-null  float64\n",
      "dtypes: float64(3), int64(1), object(5)\n",
      "memory usage: 10.8+ MB\n"
     ]
    }
   ],
   "source": [
    "fine_grained_evaluation.info()"
   ]
  },
  {
   "cell_type": "markdown",
   "id": "qualified-growth",
   "metadata": {},
   "source": [
    "# visulization\n",
    "### please help me add some other visulization if you want"
   ]
  },
  {
   "cell_type": "code",
   "execution_count": 54,
   "id": "distinct-footage",
   "metadata": {},
   "outputs": [
    {
     "data": {
      "text/plain": [
       "<AxesSubplot:ylabel='Frequency'>"
      ]
     },
     "execution_count": 54,
     "metadata": {},
     "output_type": "execute_result"
    },
    {
     "data": {
      "image/png": "[encoded data removed]",
      "text/plain": [
       "<Figure size 432x288 with 1 Axes>"
      ]
     },
     "metadata": {
      "needs_background": "light"
     },
     "output_type": "display_data"
    }
   ],
   "source": [
    "fine_grained_evaluation['entropy_difficulty_level'].plot(kind='hist')"
   ]
  },
  {
   "cell_type": "code",
   "execution_count": 55,
   "id": "bored-poetry",
   "metadata": {},
   "outputs": [
    {
     "data": {
      "text/plain": [
       "<AxesSubplot:ylabel='Frequency'>"
      ]
     },
     "execution_count": 55,
     "metadata": {},
     "output_type": "execute_result"
    },
    {
     "data": {
      "image/png": "[encoded data removed]",
      "text/plain": [
       "<Figure size 432x288 with 1 Axes>"
      ]
     },
     "metadata": {
      "needs_background": "light"
     },
     "output_type": "display_data"
    }
   ],
   "source": [
    "fine_grained_evaluation['entropy_difficulty_level'].plot(kind='hist')"
   ]
  },
  {
   "cell_type": "code",
   "execution_count": 56,
   "id": "synthetic-mentor",
   "metadata": {},
   "outputs": [
    {
     "data": {
      "text/plain": [
       "<AxesSubplot:ylabel='Frequency'>"
      ]
     },
     "execution_count": 56,
     "metadata": {},
     "output_type": "execute_result"
    },
    {
     "data": {
      "image/png": "[encoded data removed]",
      "text/plain": [
       "<Figure size 432x288 with 1 Axes>"
      ]
     },
     "metadata": {
      "needs_background": "light"
     },
     "output_type": "display_data"
    }
   ],
   "source": [
    "fine_grained_evaluation['ground_true_difficulty_level'].plot(kind='hist')"
   ]
  },
  {
   "cell_type": "code",
   "execution_count": 57,
   "id": "genuine-accent",
   "metadata": {},
   "outputs": [
    {
     "data": {
      "text/plain": [
       "Text(0, 0.5, 'rerank_loss')"
      ]
     },
     "execution_count": 57,
     "metadata": {},
     "output_type": "execute_result"
    },
    {
     "data": {
      "image/png": "[encoded data removed]",
      "text/plain": [
       "<Figure size 432x288 with 1 Axes>"
      ]
     },
     "metadata": {
      "needs_background": "light"
     },
     "output_type": "display_data"
    }
   ],
   "source": [
    "plt.scatter(fine_grained_evaluation['normal_loss'], fine_grained_evaluation['rerank_loss'])\n",
    "plt.xlabel(\"normal_loss\")\n",
    "plt.ylabel(\"rerank_loss\")"
   ]
  },
  {
   "cell_type": "code",
   "execution_count": 58,
   "id": "sophisticated-tragedy",
   "metadata": {},
   "outputs": [
    {
     "data": {
      "text/plain": [
       "Text(0, 0.5, 'entropy_difficulty_level')"
      ]
     },
     "execution_count": 58,
     "metadata": {},
     "output_type": "execute_result"
    },
    {
     "data": {
      "image/png": "[encoded data removed]",
      "text/plain": [
       "<Figure size 432x288 with 1 Axes>"
      ]
     },
     "metadata": {
      "needs_background": "light"
     },
     "output_type": "display_data"
    }
   ],
   "source": [
    "plt.scatter(fine_grained_evaluation['ground_true_difficulty_level'], fine_grained_evaluation['entropy_difficulty_level'])\n",
    "plt.xlabel(\"ground_true_difficulty_level\")\n",
    "plt.ylabel(\"entropy_difficulty_level\")\n"
   ]
  },
  {
   "cell_type": "markdown",
   "id": "official-dynamics",
   "metadata": {},
   "source": [
    "### entropy_difficulty_level VS normal_loss\n",
    "### entropy_difficulty_level VS rerank_loss"
   ]
  },
  {
   "cell_type": "code",
   "execution_count": 59,
   "id": "armed-assignment",
   "metadata": {},
   "outputs": [
    {
     "data": {
      "text/plain": [
       "Text(0, 0.5, 'normal_loss')"
      ]
     },
     "execution_count": 59,
     "metadata": {},
     "output_type": "execute_result"
    },
    {
     "data": {
      "image/png": "[encoded data removed]",
      "text/plain": [
       "<Figure size 432x288 with 1 Axes>"
      ]
     },
     "metadata": {
      "needs_background": "light"
     },
     "output_type": "display_data"
    }
   ],
   "source": [
    "# import matplotlib as mpl\n",
    "# mpl.rcParams['agg.path.chunksize'] = 200000\n",
    "plt.scatter(fine_grained_evaluation['entropy_difficulty_level'], fine_grained_evaluation['normal_loss'])\n",
    "plt.xlabel(\"entropy_difficulty_level\")\n",
    "plt.ylabel(\"normal_loss\")"
   ]
  },
  {
   "cell_type": "code",
   "execution_count": 60,
   "id": "manufactured-sacrifice",
   "metadata": {},
   "outputs": [
    {
     "data": {
      "text/plain": [
       "Text(0, 0.5, 'rerank_loss')"
      ]
     },
     "execution_count": 60,
     "metadata": {},
     "output_type": "execute_result"
    },
    {
     "data": {
      "image/png": "[encoded data removed]",
      "text/plain": [
       "<Figure size 432x288 with 1 Axes>"
      ]
     },
     "metadata": {
      "needs_background": "light"
     },
     "output_type": "display_data"
    }
   ],
   "source": [
    "plt.scatter(fine_grained_evaluation['entropy_difficulty_level'], fine_grained_evaluation['rerank_loss'])\n",
    "plt.xlabel(\"entropy_difficulty_level\")\n",
    "plt.ylabel(\"rerank_loss\")"
   ]
  },
  {
   "cell_type": "markdown",
   "id": "fewer-extent",
   "metadata": {},
   "source": [
    "### so some important points for last two figures:\n",
    "\n",
    "#### 1. if the entropy_difficulty_level is vely low (close to 0), which means gpt2 is very confident in these cases, actually it will make some stupid mistakes (some high normal loss). For these stupid mistakes, obviously reranker did better.\n",
    "\n",
    "#### 2. if the entropy_difficulty_level is vely low, which means gpt2 is very confident in this cases, it did well at most of time (most of them are super-low normal loss). For these cases, seems reranker was not so great. We can see it exlargered some loss for these cases.\n",
    "\n",
    "#### 3. The cases in 2 are much more than the cases in 1 (I showed it below). So I think original gpt2 did better during low entropy_difficulty_level.\n",
    "\n",
    "#### 4. if the entropy_difficulty_level is vely high (close to 0.7), which means gpt2 feels ambigious for these cases, its normal_loss are usually around 1.5-2.5, while its rerank_loss are usually 0-4. So it exlargered some cases' loss, at the same time it decrease some other cases' loss. However, the second kind of cases are more than the first kind of cases. So I think reranker did better during large entropy_difficulty_level."
   ]
  },
  {
   "cell_type": "markdown",
   "id": "medium-bones",
   "metadata": {},
   "source": [
    "### very easy cases and very hard cases (maybe we name them gpt2 low/high confidence cases?)"
   ]
  },
  {
   "cell_type": "code",
   "execution_count": 61,
   "id": "spiritual-marsh",
   "metadata": {},
   "outputs": [],
   "source": [
    "very_easy_cases = fine_grained_evaluation[fine_grained_evaluation[\"entropy_difficulty_level\"] < 0.1]\n",
    "very_hard_cases = fine_grained_evaluation[fine_grained_evaluation[\"entropy_difficulty_level\"] > 1.75]"
   ]
  },
  {
   "cell_type": "code",
   "execution_count": 62,
   "id": "described-nomination",
   "metadata": {},
   "outputs": [
    {
     "name": "stdout",
     "output_type": "stream",
     "text": [
      "(9037, 9)\n"
     ]
    },
    {
     "data": {
      "text/html": [
       "<div>\n",
       "<style scoped>\n",
       "    .dataframe tbody tr th:only-of-type {\n",
       "        vertical-align: middle;\n",
       "    }\n",
       "\n",
       "    .dataframe tbody tr th {\n",
       "        vertical-align: top;\n",
       "    }\n",
       "\n",
       "    .dataframe thead th {\n",
       "        text-align: right;\n",
       "    }\n",
       "</style>\n",
       "<table border=\"1\" class=\"dataframe\">\n",
       "  <thead>\n",
       "    <tr style=\"text-align: right;\">\n",
       "      <th></th>\n",
       "      <th>rerank_logits</th>\n",
       "      <th>normal_logits</th>\n",
       "      <th>ground_true_difficulty_level</th>\n",
       "      <th>rerank_loss</th>\n",
       "      <th>normal_loss</th>\n",
       "      <th>ground_true</th>\n",
       "      <th>inputs_text</th>\n",
       "      <th>candidate_tokens</th>\n",
       "      <th>entropy_difficulty_level</th>\n",
       "    </tr>\n",
       "  </thead>\n",
       "  <tbody>\n",
       "    <tr>\n",
       "      <th>3</th>\n",
       "      <td>[1.8851970434188843, 0.2747272849082947, -2.11...</td>\n",
       "      <td>[10.446430206298828, 7.063143730163574, 4.2140...</td>\n",
       "      <td>0</td>\n",
       "      <td>0.227486</td>\n",
       "      <td>0.041986</td>\n",
       "      <td>II</td>\n",
       "      <td>blacksmith's workshop.His company expanded in...</td>\n",
       "      <td>[ II,  I,  One,  2,  Two,  1,  III,  3,  4,  t...</td>\n",
       "      <td>0.094869</td>\n",
       "    </tr>\n",
       "    <tr>\n",
       "      <th>17</th>\n",
       "      <td>[5.703825950622559, -1.731456995010376, -3.907...</td>\n",
       "      <td>[10.906904220581055, 2.630750894546509, 2.5953...</td>\n",
       "      <td>0</td>\n",
       "      <td>0.001582</td>\n",
       "      <td>0.002240</td>\n",
       "      <td>of</td>\n",
       "      <td>mys. The documentary was also awarded a 2010 P...</td>\n",
       "      <td>[ of,  only,  to,  in, ,,  at,  and,  from,  w...</td>\n",
       "      <td>0.010577</td>\n",
       "    </tr>\n",
       "    <tr>\n",
       "      <th>29</th>\n",
       "      <td>[2.325869083404541, -2.8743410110473633, -8.44...</td>\n",
       "      <td>[13.1769380569458, 7.067440509796143, 5.628316...</td>\n",
       "      <td>0</td>\n",
       "      <td>0.012454</td>\n",
       "      <td>0.007951</td>\n",
       "      <td>ower</td>\n",
       "      <td>mys. The documentary was also awarded a 2010 P...</td>\n",
       "      <td>[ower, owers,  Circle,  Power, power, ow, ., u...</td>\n",
       "      <td>0.032600</td>\n",
       "    </tr>\n",
       "    <tr>\n",
       "      <th>30</th>\n",
       "      <td>[4.24450159072876, -1.0939359664916992, -2.176...</td>\n",
       "      <td>[10.687542915344238, 4.613846778869629, 4.4979...</td>\n",
       "      <td>0</td>\n",
       "      <td>0.011237</td>\n",
       "      <td>0.016941</td>\n",
       "      <td>of</td>\n",
       "      <td>, the school's band students were selected to ...</td>\n",
       "      <td>[ of,  among,  \",  to,  that,  in,  for,  wher...</td>\n",
       "      <td>0.061752</td>\n",
       "    </tr>\n",
       "    <tr>\n",
       "      <th>77</th>\n",
       "      <td>[3.9824771881103516, -0.9726418852806091, -2.7...</td>\n",
       "      <td>[8.8805570602417, 3.4145359992980957, 1.525724...</td>\n",
       "      <td>0</td>\n",
       "      <td>0.013640</td>\n",
       "      <td>0.007078</td>\n",
       "      <td>with</td>\n",
       "      <td>V) with negligible charge separation loss. Thi...</td>\n",
       "      <td>[ with,  the,  to,  a,  in, .,  for, ,,  which...</td>\n",
       "      <td>0.024397</td>\n",
       "    </tr>\n",
       "  </tbody>\n",
       "</table>\n",
       "</div>"
      ],
      "text/plain": [
       "                                        rerank_logits  \\\n",
       "3   [1.8851970434188843, 0.2747272849082947, -2.11...   \n",
       "17  [5.703825950622559, -1.731456995010376, -3.907...   \n",
       "29  [2.325869083404541, -2.8743410110473633, -8.44...   \n",
       "30  [4.24450159072876, -1.0939359664916992, -2.176...   \n",
       "77  [3.9824771881103516, -0.9726418852806091, -2.7...   \n",
       "\n",
       "                                        normal_logits  \\\n",
       "3   [10.446430206298828, 7.063143730163574, 4.2140...   \n",
       "17  [10.906904220581055, 2.630750894546509, 2.5953...   \n",
       "29  [13.1769380569458, 7.067440509796143, 5.628316...   \n",
       "30  [10.687542915344238, 4.613846778869629, 4.4979...   \n",
       "77  [8.8805570602417, 3.4145359992980957, 1.525724...   \n",
       "\n",
       "    ground_true_difficulty_level  rerank_loss  normal_loss ground_true  \\\n",
       "3                              0     0.227486     0.041986          II   \n",
       "17                             0     0.001582     0.002240          of   \n",
       "29                             0     0.012454     0.007951        ower   \n",
       "30                             0     0.011237     0.016941          of   \n",
       "77                             0     0.013640     0.007078        with   \n",
       "\n",
       "                                          inputs_text  \\\n",
       "3    blacksmith's workshop.His company expanded in...   \n",
       "17  mys. The documentary was also awarded a 2010 P...   \n",
       "29  mys. The documentary was also awarded a 2010 P...   \n",
       "30  , the school's band students were selected to ...   \n",
       "77  V) with negligible charge separation loss. Thi...   \n",
       "\n",
       "                                     candidate_tokens  \\\n",
       "3   [ II,  I,  One,  2,  Two,  1,  III,  3,  4,  t...   \n",
       "17  [ of,  only,  to,  in, ,,  at,  and,  from,  w...   \n",
       "29  [ower, owers,  Circle,  Power, power, ow, ., u...   \n",
       "30  [ of,  among,  \",  to,  that,  in,  for,  wher...   \n",
       "77  [ with,  the,  to,  a,  in, .,  for, ,,  which...   \n",
       "\n",
       "    entropy_difficulty_level  \n",
       "3                   0.094869  \n",
       "17                  0.010577  \n",
       "29                  0.032600  \n",
       "30                  0.061752  \n",
       "77                  0.024397  "
      ]
     },
     "execution_count": 62,
     "metadata": {},
     "output_type": "execute_result"
    }
   ],
   "source": [
    "print(very_easy_cases.shape)\n",
    "very_easy_cases.head()"
   ]
  },
  {
   "cell_type": "code",
   "execution_count": 63,
   "id": "personal-punishment",
   "metadata": {},
   "outputs": [
    {
     "name": "stdout",
     "output_type": "stream",
     "text": [
      "(9038, 9)\n"
     ]
    },
    {
     "data": {
      "text/html": [
       "<div>\n",
       "<style scoped>\n",
       "    .dataframe tbody tr th:only-of-type {\n",
       "        vertical-align: middle;\n",
       "    }\n",
       "\n",
       "    .dataframe tbody tr th {\n",
       "        vertical-align: top;\n",
       "    }\n",
       "\n",
       "    .dataframe thead th {\n",
       "        text-align: right;\n",
       "    }\n",
       "</style>\n",
       "<table border=\"1\" class=\"dataframe\">\n",
       "  <thead>\n",
       "    <tr style=\"text-align: right;\">\n",
       "      <th></th>\n",
       "      <th>rerank_logits</th>\n",
       "      <th>normal_logits</th>\n",
       "      <th>ground_true_difficulty_level</th>\n",
       "      <th>rerank_loss</th>\n",
       "      <th>normal_loss</th>\n",
       "      <th>ground_true</th>\n",
       "      <th>inputs_text</th>\n",
       "      <th>candidate_tokens</th>\n",
       "      <th>entropy_difficulty_level</th>\n",
       "    </tr>\n",
       "  </thead>\n",
       "  <tbody>\n",
       "    <tr>\n",
       "      <th>15</th>\n",
       "      <td>[-0.6934142708778381, -1.4626562595367432, -3....</td>\n",
       "      <td>[4.802480697631836, 4.389768123626709, 4.33284...</td>\n",
       "      <td>55</td>\n",
       "      <td>5.948905</td>\n",
       "      <td>5.164661</td>\n",
       "      <td>town</td>\n",
       "      <td>blacksmith's workshop.His company expanded in...</td>\n",
       "      <td>[ company,  development,  local,  future,  env...</td>\n",
       "      <td>1.850556</td>\n",
       "    </tr>\n",
       "    <tr>\n",
       "      <th>23</th>\n",
       "      <td>[-0.5905141830444336, -2.5446155071258545, -1....</td>\n",
       "      <td>[5.1308913230896, 4.791731357574463, 4.3057980...</td>\n",
       "      <td>66</td>\n",
       "      <td>5.963027</td>\n",
       "      <td>5.353002</td>\n",
       "      <td>R</td>\n",
       "      <td>mys. The documentary was also awarded a 2010 P...</td>\n",
       "      <td>[ River,  Foundation,  family, -, ,,  Valley, ...</td>\n",
       "      <td>1.841608</td>\n",
       "    </tr>\n",
       "    <tr>\n",
       "      <th>56</th>\n",
       "      <td>[-2.251896619796753, -2.0954713821411133, -1.7...</td>\n",
       "      <td>[4.025280475616455, 3.8301987648010254, 3.5794...</td>\n",
       "      <td>35</td>\n",
       "      <td>4.682738</td>\n",
       "      <td>4.748627</td>\n",
       "      <td>White</td>\n",
       "      <td>mys. The documentary was also awarded a 2010 P...</td>\n",
       "      <td>[ Mount,  Great,  South,  Gold,  Mountain,  Bl...</td>\n",
       "      <td>1.899341</td>\n",
       "    </tr>\n",
       "    <tr>\n",
       "      <th>65</th>\n",
       "      <td>[-1.4145162105560303, -2.031649351119995, -3.0...</td>\n",
       "      <td>[4.686250686645508, 4.317398548126221, 4.29532...</td>\n",
       "      <td>60</td>\n",
       "      <td>5.742875</td>\n",
       "      <td>5.394445</td>\n",
       "      <td>k</td>\n",
       "      <td>with temperature of kBCAr:</td>\n",
       "      <td>[The,  \", K,  The, In,  K, C, N, R,  A,  (, P,...</td>\n",
       "      <td>1.770787</td>\n",
       "    </tr>\n",
       "    <tr>\n",
       "      <th>80</th>\n",
       "      <td>[-1.7239644527435303, -3.101919174194336, -3.1...</td>\n",
       "      <td>[6.07850456237793, 5.993066310882568, 5.863473...</td>\n",
       "      <td>2</td>\n",
       "      <td>2.999878</td>\n",
       "      <td>2.713725</td>\n",
       "      <td>rad</td>\n",
       "      <td>V) with negligible charge separation loss. Thi...</td>\n",
       "      <td>[linear, chemical, rad, natural, c, static, im...</td>\n",
       "      <td>1.815952</td>\n",
       "    </tr>\n",
       "  </tbody>\n",
       "</table>\n",
       "</div>"
      ],
      "text/plain": [
       "                                        rerank_logits  \\\n",
       "15  [-0.6934142708778381, -1.4626562595367432, -3....   \n",
       "23  [-0.5905141830444336, -2.5446155071258545, -1....   \n",
       "56  [-2.251896619796753, -2.0954713821411133, -1.7...   \n",
       "65  [-1.4145162105560303, -2.031649351119995, -3.0...   \n",
       "80  [-1.7239644527435303, -3.101919174194336, -3.1...   \n",
       "\n",
       "                                        normal_logits  \\\n",
       "15  [4.802480697631836, 4.389768123626709, 4.33284...   \n",
       "23  [5.1308913230896, 4.791731357574463, 4.3057980...   \n",
       "56  [4.025280475616455, 3.8301987648010254, 3.5794...   \n",
       "65  [4.686250686645508, 4.317398548126221, 4.29532...   \n",
       "80  [6.07850456237793, 5.993066310882568, 5.863473...   \n",
       "\n",
       "    ground_true_difficulty_level  rerank_loss  normal_loss ground_true  \\\n",
       "15                            55     5.948905     5.164661        town   \n",
       "23                            66     5.963027     5.353002           R   \n",
       "56                            35     4.682738     4.748627       White   \n",
       "65                            60     5.742875     5.394445           k   \n",
       "80                             2     2.999878     2.713725         rad   \n",
       "\n",
       "                                          inputs_text  \\\n",
       "15   blacksmith's workshop.His company expanded in...   \n",
       "23  mys. The documentary was also awarded a 2010 P...   \n",
       "56  mys. The documentary was also awarded a 2010 P...   \n",
       "65                         with temperature of kBCAr:   \n",
       "80  V) with negligible charge separation loss. Thi...   \n",
       "\n",
       "                                     candidate_tokens  \\\n",
       "15  [ company,  development,  local,  future,  env...   \n",
       "23  [ River,  Foundation,  family, -, ,,  Valley, ...   \n",
       "56  [ Mount,  Great,  South,  Gold,  Mountain,  Bl...   \n",
       "65  [The,  \", K,  The, In,  K, C, N, R,  A,  (, P,...   \n",
       "80  [linear, chemical, rad, natural, c, static, im...   \n",
       "\n",
       "    entropy_difficulty_level  \n",
       "15                  1.850556  \n",
       "23                  1.841608  \n",
       "56                  1.899341  \n",
       "65                  1.770787  \n",
       "80                  1.815952  "
      ]
     },
     "execution_count": 63,
     "metadata": {},
     "output_type": "execute_result"
    }
   ],
   "source": [
    "print(very_hard_cases.shape)\n",
    "very_hard_cases.head()"
   ]
  },
  {
   "cell_type": "code",
   "execution_count": 64,
   "id": "personal-jewel",
   "metadata": {},
   "outputs": [
    {
     "data": {
      "image/png": "[encoded data removed]",
      "text/plain": [
       "<Figure size 432x288 with 1 Axes>"
      ]
     },
     "metadata": {
      "needs_background": "light"
     },
     "output_type": "display_data"
    },
    {
     "data": {
      "image/png": "[encoded data removed]",
      "text/plain": [
       "<Figure size 432x288 with 1 Axes>"
      ]
     },
     "metadata": {
      "needs_background": "light"
     },
     "output_type": "display_data"
    }
   ],
   "source": [
    "plt.scatter(very_easy_cases['entropy_difficulty_level'], very_easy_cases['normal_loss'])\n",
    "plt.xlabel(\"entropy_difficulty_level\")\n",
    "plt.ylabel(\"normal_loss\")\n",
    "plt.show()\n",
    "\n",
    "\n",
    "plt.scatter(very_easy_cases['entropy_difficulty_level'], very_easy_cases['rerank_loss'])\n",
    "plt.xlabel(\"entropy_difficulty_level\")\n",
    "plt.ylabel(\"rerank_loss\")\n",
    "plt.show()"
   ]
  },
  {
   "cell_type": "code",
   "execution_count": 65,
   "id": "diagnostic-monte",
   "metadata": {},
   "outputs": [
    {
     "data": {
      "image/png": "[encoded data removed]",
      "text/plain": [
       "<Figure size 432x288 with 1 Axes>"
      ]
     },
     "metadata": {
      "needs_background": "light"
     },
     "output_type": "display_data"
    },
    {
     "data": {
      "image/png": "[encoded data removed]",
      "text/plain": [
       "<Figure size 432x288 with 1 Axes>"
      ]
     },
     "metadata": {
      "needs_background": "light"
     },
     "output_type": "display_data"
    }
   ],
   "source": [
    "# import matplotlib as mpl\n",
    "# mpl.rcParams['agg.path.chunksize'] = 200000\n",
    "plt.scatter(very_hard_cases['entropy_difficulty_level'], very_hard_cases['normal_loss'])\n",
    "plt.xlabel(\"entropy_difficulty_level\")\n",
    "plt.ylabel(\"normal_loss\")\n",
    "\n",
    "plt.show()\n",
    "\n",
    "plt.scatter(very_hard_cases['entropy_difficulty_level'], very_hard_cases['rerank_loss'])\n",
    "plt.xlabel(\"entropy_difficulty_level\")\n",
    "plt.ylabel(\"rerank_loss\")\n",
    "\n",
    "plt.show()"
   ]
  },
  {
   "cell_type": "markdown",
   "id": "direct-cisco",
   "metadata": {},
   "source": [
    "## Decile\n",
    "#### find the decile (https://en.wikipedia.org/wiki/Decile) on the entropy difficulty and average the loss within each of 10 bins and compare the 10 average losses of the 1st stage prediction and 2nd stage prediction"
   ]
  },
  {
   "cell_type": "code",
   "execution_count": 66,
   "id": "funny-potato",
   "metadata": {},
   "outputs": [
    {
     "name": "stdout",
     "output_type": "stream",
     "text": [
      "For Decile_for_entropy_difficulty_level of  0\n",
      "avg normal_loss: 0.3985686942506043\n",
      "avg rerank_loss: 0.3778577127791623\n",
      "\n",
      "For Decile_for_entropy_difficulty_level of  1\n",
      "avg normal_loss: 1.181883240357048\n",
      "avg rerank_loss: 1.1538274200208085\n",
      "\n",
      "For Decile_for_entropy_difficulty_level of  2\n",
      "avg normal_loss: 1.7654803521817333\n",
      "avg rerank_loss: 1.731158655069881\n",
      "\n",
      "For Decile_for_entropy_difficulty_level of  3\n",
      "avg normal_loss: 2.189172128921969\n",
      "avg rerank_loss: 2.148486406481832\n",
      "\n",
      "For Decile_for_entropy_difficulty_level of  4\n",
      "avg normal_loss: 2.5096024566840818\n",
      "avg rerank_loss: 2.4640476715833124\n",
      "\n",
      "For Decile_for_entropy_difficulty_level of  5\n",
      "avg normal_loss: 2.772050285210117\n",
      "avg rerank_loss: 2.7174514027325447\n",
      "\n",
      "For Decile_for_entropy_difficulty_level of  6\n",
      "avg normal_loss: 3.0638991030502174\n",
      "avg rerank_loss: 2.9966817250563738\n",
      "\n",
      "For Decile_for_entropy_difficulty_level of  7\n",
      "avg normal_loss: 3.3615039596732657\n",
      "avg rerank_loss: 3.2866023078076423\n",
      "\n",
      "For Decile_for_entropy_difficulty_level of  8\n",
      "avg normal_loss: 3.629217583519605\n",
      "avg rerank_loss: 3.550503109332538\n",
      "\n",
      "For Decile_for_entropy_difficulty_level of  9\n",
      "avg normal_loss: 4.024641893013388\n",
      "avg rerank_loss: 3.9337045956772383\n",
      "\n"
     ]
    }
   ],
   "source": [
    "import pandas as pd \n",
    "import numpy as np \n",
    "\n",
    "fine_grained_evaluation[\"Decile_for_entropy_difficulty_level\"] = pd.qcut(fine_grained_evaluation['entropy_difficulty_level'], 10,\n",
    "       labels=[0, 1, 2, 3, 4, 5, 6, 7, 8, 9])\n",
    "\n",
    "for i in range(10):\n",
    "    this_level = fine_grained_evaluation[fine_grained_evaluation['Decile_for_entropy_difficulty_level'] == i]\n",
    "    print(\"For Decile_for_entropy_difficulty_level of \", str(i))\n",
    "    print(\"avg normal_loss:\", this_level['normal_loss'].mean())\n",
    "    print(\"avg rerank_loss:\", this_level['rerank_loss'].mean())\n",
    "    print()"
   ]
  },
  {
   "cell_type": "markdown",
   "id": "secret-beijing",
   "metadata": {},
   "source": [
    "## Mean reciprocal rank"
   ]
  },
  {
   "cell_type": "code",
   "execution_count": 68,
   "id": "third-spiritual",
   "metadata": {},
   "outputs": [
    {
     "name": "stdout",
     "output_type": "stream",
     "text": [
      "For all evaluation data:\n",
      "normal MRR is  0.5339735419176206\n",
      "rerank MRR is  0.5411668070920144\n",
      "\n",
      "For Decile_for_entropy_difficulty_level of  0\n",
      "normal MRR is  0.9544835410968345\n",
      "rerank MRR is  0.9551752500950773\n",
      "\n",
      "For Decile_for_entropy_difficulty_level of  1\n",
      "normal MRR is  0.8153121520277123\n",
      "rerank MRR is  0.81787676226532\n",
      "\n",
      "For Decile_for_entropy_difficulty_level of  2\n",
      "normal MRR is  0.6927360318736095\n",
      "rerank MRR is  0.6965781112079139\n",
      "\n",
      "For Decile_for_entropy_difficulty_level of  3\n",
      "normal MRR is  0.6000408950776748\n",
      "rerank MRR is  0.6050663984538214\n",
      "\n",
      "For Decile_for_entropy_difficulty_level of  4\n",
      "normal MRR is  0.5273498868692783\n",
      "rerank MRR is  0.5336258714486509\n",
      "\n",
      "For Decile_for_entropy_difficulty_level of  5\n",
      "normal MRR is  0.47230100934144376\n",
      "rerank MRR is  0.48101642994458943\n",
      "\n",
      "For Decile_for_entropy_difficulty_level of  6\n",
      "normal MRR is  0.4166781817595551\n",
      "rerank MRR is  0.42535067111505276\n",
      "\n",
      "For Decile_for_entropy_difficulty_level of  7\n",
      "normal MRR is  0.35402380259922045\n",
      "rerank MRR is  0.3643265812930483\n",
      "\n",
      "For Decile_for_entropy_difficulty_level of  8\n",
      "normal MRR is  0.29271589670280074\n",
      "rerank MRR is  0.3049159040865054\n",
      "\n",
      "For Decile_for_entropy_difficulty_level of  9\n",
      "normal MRR is  0.21408764231247626\n",
      "rerank MRR is  0.22772971483881144\n",
      "\n"
     ]
    }
   ],
   "source": [
    "def cal_gt_value_rank_in_array(x):\n",
    "    logits_array, ground_true_place = x\n",
    "    array = (-1) * np.array(logits_array) #for reverse ranking\n",
    "    temp = array.argsort()\n",
    "    ranks = np.empty_like(temp)\n",
    "    ranks[temp] = np.arange(len(array))\n",
    "    return ranks[ground_true_place]\n",
    "\n",
    "def mean_reciprocal_rank(gt_ranks, CAN_NUM=5):\n",
    "    rs = []\n",
    "    for i in range(len(gt_ranks)):\n",
    "        tmp = np.zeros(CAN_NUM)\n",
    "        tmp[gt_ranks[i]] = 1\n",
    "        rs.append(tmp)\n",
    "    \n",
    "    rs = (np.asarray(r).nonzero()[0] for r in rs)\n",
    "    return np.mean([1. / (r[0] + 1) if r.size else 0. for r in rs]) \n",
    "\n",
    "print(\"For all evaluation data:\")\n",
    "\n",
    "fine_grained_evaluation['noraml_prediction_gt_rank'] = fine_grained_evaluation[['normal_logits', 'ground_true_difficulty_level']].apply(cal_gt_value_rank_in_array, axis=1)\n",
    "fine_grained_evaluation['rerank_prediction_gt_rank'] = fine_grained_evaluation[['rerank_logits', 'ground_true_difficulty_level']].apply(cal_gt_value_rank_in_array, axis=1)\n",
    "\n",
    "print(\"normal MRR is \", mean_reciprocal_rank(gt_ranks=fine_grained_evaluation['noraml_prediction_gt_rank'].tolist(), CAN_NUM=100))\n",
    "print(\"rerank MRR is \", mean_reciprocal_rank(gt_ranks=fine_grained_evaluation['rerank_prediction_gt_rank'].tolist(), CAN_NUM=100))\n",
    "print()\n",
    "\n",
    "for i in range(10):\n",
    "    this_level = fine_grained_evaluation[fine_grained_evaluation['Decile_for_entropy_difficulty_level'] == i]\n",
    "    print(\"For Decile_for_entropy_difficulty_level of \", str(i))\n",
    "    print(\"normal MRR is \", mean_reciprocal_rank(gt_ranks=this_level['noraml_prediction_gt_rank'].tolist(), CAN_NUM=100))\n",
    "    print(\"rerank MRR is \", mean_reciprocal_rank(gt_ranks=this_level['rerank_prediction_gt_rank'].tolist(), CAN_NUM=100))\n",
    "    print()"
   ]
  },
  {
   "cell_type": "markdown",
   "id": "expanded-disposition",
   "metadata": {},
   "source": [
    "### Do the context length pooling and upper/lowercase pooling and POS pooling on the perplexity as well"
   ]
  },
  {
   "cell_type": "code",
   "execution_count": 33,
   "id": "empirical-simon",
   "metadata": {},
   "outputs": [
    {
     "data": {
      "text/html": [
       "<div>\n",
       "<style scoped>\n",
       "    .dataframe tbody tr th:only-of-type {\n",
       "        vertical-align: middle;\n",
       "    }\n",
       "\n",
       "    .dataframe tbody tr th {\n",
       "        vertical-align: top;\n",
       "    }\n",
       "\n",
       "    .dataframe thead th {\n",
       "        text-align: right;\n",
       "    }\n",
       "</style>\n",
       "<table border=\"1\" class=\"dataframe\">\n",
       "  <thead>\n",
       "    <tr style=\"text-align: right;\">\n",
       "      <th></th>\n",
       "      <th>rerank_logits</th>\n",
       "      <th>normal_logits</th>\n",
       "      <th>ground_true_difficulty_level</th>\n",
       "      <th>rerank_loss</th>\n",
       "      <th>normal_loss</th>\n",
       "      <th>ground_true</th>\n",
       "      <th>inputs_text</th>\n",
       "      <th>candidate_tokens</th>\n",
       "      <th>entropy_difficulty_level</th>\n",
       "    </tr>\n",
       "  </thead>\n",
       "  <tbody>\n",
       "    <tr>\n",
       "      <th>0</th>\n",
       "      <td>[-0.31323760747909546, -0.3514552414417267, -0...</td>\n",
       "      <td>[7.288956165313721, 7.029998302459717, 6.89305...</td>\n",
       "      <td>0</td>\n",
       "      <td>1.407344</td>\n",
       "      <td>1.353590</td>\n",
       "      <td>.</td>\n",
       "      <td>blacksmith's workshop</td>\n",
       "      <td>[.,  in, ,,  at,  and,  with,  on,  for,  was,...</td>\n",
       "      <td>1.074903</td>\n",
       "    </tr>\n",
       "    <tr>\n",
       "      <th>1</th>\n",
       "      <td>[0.5781433582305908, -0.4996368885040283, 0.32...</td>\n",
       "      <td>[8.005743980407715, 6.383976459503174, 6.17348...</td>\n",
       "      <td>17</td>\n",
       "      <td>5.758543</td>\n",
       "      <td>5.490301</td>\n",
       "      <td>when</td>\n",
       "      <td>high school, back</td>\n",
       "      <td>[ in,  at,  to,  on,  home,  with, -,  and,  i...</td>\n",
       "      <td>0.891999</td>\n",
       "    </tr>\n",
       "    <tr>\n",
       "      <th>2</th>\n",
       "      <td>[-0.6205261945724487, -1.2617223262786865, -1....</td>\n",
       "      <td>[5.97537899017334, 4.827922344207764, 4.663620...</td>\n",
       "      <td>0</td>\n",
       "      <td>1.681026</td>\n",
       "      <td>1.508302</td>\n",
       "      <td>was</td>\n",
       "      <td>mys. The documentary</td>\n",
       "      <td>[ was,  is, ,,  \",  also, 's,  has,  series,  ...</td>\n",
       "      <td>1.582223</td>\n",
       "    </tr>\n",
       "    <tr>\n",
       "      <th>3</th>\n",
       "      <td>[1.8851970434188843, 0.2747272849082947, -2.11...</td>\n",
       "      <td>[10.446430206298828, 7.063143730163574, 4.2140...</td>\n",
       "      <td>0</td>\n",
       "      <td>0.227486</td>\n",
       "      <td>0.041986</td>\n",
       "      <td>II</td>\n",
       "      <td>blacksmith's workshop.His company expanded in...</td>\n",
       "      <td>[ II,  I,  One,  2,  Two,  1,  III,  3,  4,  t...</td>\n",
       "      <td>0.094869</td>\n",
       "    </tr>\n",
       "    <tr>\n",
       "      <th>4</th>\n",
       "      <td>[1.748606562614441, -0.38535428047180176, -0.5...</td>\n",
       "      <td>[8.950237274169922, 6.9351067543029785, 5.7370...</td>\n",
       "      <td>1</td>\n",
       "      <td>2.418952</td>\n",
       "      <td>2.248357</td>\n",
       "      <td>in</td>\n",
       "      <td>mys. The documentary was also awarded a 2010 P...</td>\n",
       "      <td>[.,  in,  from,  and, .\",  of, ,,  that,  on, ...</td>\n",
       "      <td>0.406286</td>\n",
       "    </tr>\n",
       "  </tbody>\n",
       "</table>\n",
       "</div>"
      ],
      "text/plain": [
       "                                       rerank_logits  \\\n",
       "0  [-0.31323760747909546, -0.3514552414417267, -0...   \n",
       "1  [0.5781433582305908, -0.4996368885040283, 0.32...   \n",
       "2  [-0.6205261945724487, -1.2617223262786865, -1....   \n",
       "3  [1.8851970434188843, 0.2747272849082947, -2.11...   \n",
       "4  [1.748606562614441, -0.38535428047180176, -0.5...   \n",
       "\n",
       "                                       normal_logits  \\\n",
       "0  [7.288956165313721, 7.029998302459717, 6.89305...   \n",
       "1  [8.005743980407715, 6.383976459503174, 6.17348...   \n",
       "2  [5.97537899017334, 4.827922344207764, 4.663620...   \n",
       "3  [10.446430206298828, 7.063143730163574, 4.2140...   \n",
       "4  [8.950237274169922, 6.9351067543029785, 5.7370...   \n",
       "\n",
       "   ground_true_difficulty_level  rerank_loss  normal_loss ground_true  \\\n",
       "0                             0     1.407344     1.353590           .   \n",
       "1                            17     5.758543     5.490301        when   \n",
       "2                             0     1.681026     1.508302         was   \n",
       "3                             0     0.227486     0.041986          II   \n",
       "4                             1     2.418952     2.248357          in   \n",
       "\n",
       "                                         inputs_text  \\\n",
       "0                              blacksmith's workshop   \n",
       "1                                  high school, back   \n",
       "2                               mys. The documentary   \n",
       "3   blacksmith's workshop.His company expanded in...   \n",
       "4  mys. The documentary was also awarded a 2010 P...   \n",
       "\n",
       "                                    candidate_tokens  entropy_difficulty_level  \n",
       "0  [.,  in, ,,  at,  and,  with,  on,  for,  was,...                  1.074903  \n",
       "1  [ in,  at,  to,  on,  home,  with, -,  and,  i...                  0.891999  \n",
       "2  [ was,  is, ,,  \",  also, 's,  has,  series,  ...                  1.582223  \n",
       "3  [ II,  I,  One,  2,  Two,  1,  III,  3,  4,  t...                  0.094869  \n",
       "4  [.,  in,  from,  and, .\",  of, ,,  that,  on, ...                  0.406286  "
      ]
     },
     "execution_count": 33,
     "metadata": {},
     "output_type": "execute_result"
    }
   ],
   "source": [
    "import pandas as pd\n",
    "import matplotlib.pyplot as plt\n",
    "%matplotlib inline\n",
    "\n",
    "fine_grained_evaluation = pd.read_pickle(\"/mnt/nfs/work1/llcao/zhiyilai/reranking_LM/results/baseline_wiki2021/canNUM100_not_repeat_candidate/40000/fg_eval.pkl\")\n",
    "\n",
    "fine_grained_evaluation.head()"
   ]
  },
  {
   "cell_type": "code",
   "execution_count": 35,
   "id": "similar-professional",
   "metadata": {},
   "outputs": [],
   "source": [
    "import spacy\n",
    "from spacy.lang.en import English\n",
    "from result_statistics import result_statistics\n",
    "\n",
    "# nlp = English()\n",
    "nlp = spacy.load(\"en_core_web_sm\")\n",
    "\n",
    "if_include_upper = lambda s: \"upper\" if any(x.isupper() for x in s) else \"lower\"\n",
    "\n",
    "def pos_ground_true_token(x):\n",
    "    tokens = nlp(x.strip())\n",
    "    if len(tokens)==1:\n",
    "        return tokens[0].pos_\n",
    "    else:\n",
    "        return \"no applicant\"\n",
    "\n",
    "fine_grained_evaluation['ground_true_upper_lower'] = fine_grained_evaluation['ground_true'].apply(if_include_upper)\n",
    "fine_grained_evaluation['ground_true_pos'] = fine_grained_evaluation['ground_true'].apply(pos_ground_true_token)"
   ]
  },
  {
   "cell_type": "code",
   "execution_count": 36,
   "id": "identified-holmes",
   "metadata": {
    "scrolled": true
   },
   "outputs": [
    {
     "data": {
      "image/png": "[encoded data removed]",
      "text/plain": [
       "<Figure size 432x288 with 1 Axes>"
      ]
     },
     "metadata": {
      "needs_background": "light"
     },
     "output_type": "display_data"
    },
    {
     "data": {
      "image/png": "[encoded data removed]",
      "text/plain": [
       "<Figure size 432x288 with 1 Axes>"
      ]
     },
     "metadata": {
      "needs_background": "light"
     },
     "output_type": "display_data"
    },
    {
     "data": {
      "image/png": "[encoded data removed]",
      "text/plain": [
       "<Figure size 432x288 with 1 Axes>"
      ]
     },
     "metadata": {
      "needs_background": "light"
     },
     "output_type": "display_data"
    },
    {
     "data": {
      "image/png": "[encoded data removed]",
      "text/plain": [
       "<Figure size 432x288 with 1 Axes>"
      ]
     },
     "metadata": {
      "needs_background": "light"
     },
     "output_type": "display_data"
    }
   ],
   "source": [
    "fine_grained_evaluation_upper = fine_grained_evaluation[fine_grained_evaluation['ground_true_upper_lower'] == \"upper\"]\n",
    "\n",
    "plt.scatter(fine_grained_evaluation_upper['entropy_difficulty_level'], fine_grained_evaluation_upper['normal_loss'])\n",
    "plt.xlabel(\"entropy_difficulty_level\")\n",
    "plt.ylabel(\"normal_loss\")\n",
    "\n",
    "plt.show()\n",
    "\n",
    "plt.scatter(fine_grained_evaluation_upper['entropy_difficulty_level'], fine_grained_evaluation_upper['rerank_loss'])\n",
    "plt.xlabel(\"entropy_difficulty_level\")\n",
    "plt.ylabel(\"rerank_loss\")\n",
    "\n",
    "plt.show()\n",
    "\n",
    "fine_grained_evaluation_lower = fine_grained_evaluation[fine_grained_evaluation['ground_true_upper_lower'] == \"lower\"]\n",
    "\n",
    "plt.scatter(fine_grained_evaluation_lower['entropy_difficulty_level'], fine_grained_evaluation_lower['normal_loss'])\n",
    "plt.xlabel(\"entropy_difficulty_level\")\n",
    "plt.ylabel(\"normal_loss\")\n",
    "\n",
    "plt.show()\n",
    "\n",
    "plt.scatter(fine_grained_evaluation_lower['entropy_difficulty_level'], fine_grained_evaluation_lower['rerank_loss'])\n",
    "plt.xlabel(\"entropy_difficulty_level\")\n",
    "plt.ylabel(\"rerank_loss\")\n",
    "\n",
    "plt.show()"
   ]
  },
  {
   "cell_type": "code",
   "execution_count": 37,
   "id": "unsigned-brick",
   "metadata": {
    "scrolled": true
   },
   "outputs": [
    {
     "name": "stdout",
     "output_type": "stream",
     "text": [
      "for upper:\n",
      "For Decile_for_entropy_difficulty_level of  0\n",
      "avg normal_loss: 0.6564878889065057\n",
      "avg rerank_loss: 0.6513887155031787\n",
      "\n",
      "For Decile_for_entropy_difficulty_level of  1\n",
      "avg normal_loss: 2.3791405048626344\n",
      "avg rerank_loss: 2.260677291397072\n",
      "\n",
      "For Decile_for_entropy_difficulty_level of  2\n",
      "avg normal_loss: 2.997426756402446\n",
      "avg rerank_loss: 2.825555911306911\n",
      "\n",
      "For Decile_for_entropy_difficulty_level of  3\n",
      "avg normal_loss: 3.0601200768644627\n",
      "avg rerank_loss: 2.930312841725847\n",
      "\n",
      "For Decile_for_entropy_difficulty_level of  4\n",
      "avg normal_loss: 3.3330537122268455\n",
      "avg rerank_loss: 3.166539441509656\n",
      "\n",
      "For Decile_for_entropy_difficulty_level of  5\n",
      "avg normal_loss: 3.496706213751893\n",
      "avg rerank_loss: 3.354330441267677\n",
      "\n",
      "For Decile_for_entropy_difficulty_level of  6\n",
      "avg normal_loss: 3.655177072553716\n",
      "avg rerank_loss: 3.528212297903512\n",
      "\n",
      "For Decile_for_entropy_difficulty_level of  7\n",
      "avg normal_loss: 3.7659595651553754\n",
      "avg rerank_loss: 3.62086971674486\n",
      "\n",
      "For Decile_for_entropy_difficulty_level of  8\n",
      "avg normal_loss: 3.9483058439217915\n",
      "avg rerank_loss: 3.825799145520751\n",
      "\n",
      "For Decile_for_entropy_difficulty_level of  9\n",
      "avg normal_loss: 4.207234049946083\n",
      "avg rerank_loss: 4.061102490000624\n",
      "\n",
      "\n",
      "for lower:\n",
      "For Decile_for_entropy_difficulty_level of  0\n",
      "avg normal_loss: 0.3760717492110628\n",
      "avg rerank_loss: 0.3524312038417384\n",
      "\n",
      "For Decile_for_entropy_difficulty_level of  1\n",
      "avg normal_loss: 1.0856610635153754\n",
      "avg rerank_loss: 1.061586853234816\n",
      "\n",
      "For Decile_for_entropy_difficulty_level of  2\n",
      "avg normal_loss: 1.6354806204416166\n",
      "avg rerank_loss: 1.6106456161271356\n",
      "\n",
      "For Decile_for_entropy_difficulty_level of  3\n",
      "avg normal_loss: 2.0319653729159177\n",
      "avg rerank_loss: 2.00460531889842\n",
      "\n",
      "For Decile_for_entropy_difficulty_level of  4\n",
      "avg normal_loss: 2.378699817289732\n",
      "avg rerank_loss: 2.3448161874875297\n",
      "\n",
      "For Decile_for_entropy_difficulty_level of  5\n",
      "avg normal_loss: 2.6354309012504964\n",
      "avg rerank_loss: 2.5996102951253577\n",
      "\n",
      "For Decile_for_entropy_difficulty_level of  6\n",
      "avg normal_loss: 2.92391964069818\n",
      "avg rerank_loss: 2.8755065342412776\n",
      "\n",
      "For Decile_for_entropy_difficulty_level of  7\n",
      "avg normal_loss: 3.225859575701207\n",
      "avg rerank_loss: 3.171901907621269\n",
      "\n",
      "For Decile_for_entropy_difficulty_level of  8\n",
      "avg normal_loss: 3.5389520497905327\n",
      "avg rerank_loss: 3.4766893861091424\n",
      "\n",
      "For Decile_for_entropy_difficulty_level of  9\n",
      "avg normal_loss: 3.9787352588807314\n",
      "avg rerank_loss: 3.8987509620244554\n",
      "\n"
     ]
    },
    {
     "name": "stderr",
     "output_type": "stream",
     "text": [
      "<ipython-input-37-2a347bac64ec>:5: SettingWithCopyWarning: \n",
      "A value is trying to be set on a copy of a slice from a DataFrame.\n",
      "Try using .loc[row_indexer,col_indexer] = value instead\n",
      "\n",
      "See the caveats in the documentation: https://pandas.pydata.org/pandas-docs/stable/user_guide/indexing.html#returning-a-view-versus-a-copy\n",
      "  fine_grained_evaluation_upper[\"Decile_for_entropy_difficulty_level\"] = pd.qcut(fine_grained_evaluation_upper['entropy_difficulty_level'], 10,\n",
      "<ipython-input-37-2a347bac64ec>:16: SettingWithCopyWarning: \n",
      "A value is trying to be set on a copy of a slice from a DataFrame.\n",
      "Try using .loc[row_indexer,col_indexer] = value instead\n",
      "\n",
      "See the caveats in the documentation: https://pandas.pydata.org/pandas-docs/stable/user_guide/indexing.html#returning-a-view-versus-a-copy\n",
      "  fine_grained_evaluation_lower[\"Decile_for_entropy_difficulty_level\"] = pd.qcut(fine_grained_evaluation_lower['entropy_difficulty_level'], 10,\n"
     ]
    }
   ],
   "source": [
    "import pandas as pd \n",
    "import numpy as np \n",
    "\n",
    "print(\"for upper:\")\n",
    "fine_grained_evaluation_upper[\"Decile_for_entropy_difficulty_level\"] = pd.qcut(fine_grained_evaluation_upper['entropy_difficulty_level'], 10,\n",
    "       labels=[0, 1, 2, 3, 4, 5, 6, 7, 8, 9])\n",
    "\n",
    "for i in range(10):\n",
    "    this_level = fine_grained_evaluation_upper[fine_grained_evaluation_upper['Decile_for_entropy_difficulty_level'] == i]\n",
    "    print(\"For Decile_for_entropy_difficulty_level of \", str(i))\n",
    "    print(\"avg normal_loss:\", this_level['normal_loss'].mean())\n",
    "    print(\"avg rerank_loss:\", this_level['rerank_loss'].mean())\n",
    "    print()\n",
    "print()\n",
    "print(\"for lower:\")\n",
    "fine_grained_evaluation_lower[\"Decile_for_entropy_difficulty_level\"] = pd.qcut(fine_grained_evaluation_lower['entropy_difficulty_level'], 10,\n",
    "       labels=[0, 1, 2, 3, 4, 5, 6, 7, 8, 9])\n",
    "\n",
    "for i in range(10):\n",
    "    this_level = fine_grained_evaluation_lower[fine_grained_evaluation_lower['Decile_for_entropy_difficulty_level'] == i]\n",
    "    print(\"For Decile_for_entropy_difficulty_level of \", str(i))\n",
    "    print(\"avg normal_loss:\", this_level['normal_loss'].mean())\n",
    "    print(\"avg rerank_loss:\", this_level['rerank_loss'].mean())\n",
    "    print()"
   ]
  },
  {
   "cell_type": "code",
   "execution_count": 38,
   "id": "independent-appearance",
   "metadata": {
    "scrolled": true
   },
   "outputs": [
    {
     "name": "stdout",
     "output_type": "stream",
     "text": [
      "For upper data:\n"
     ]
    },
    {
     "name": "stderr",
     "output_type": "stream",
     "text": [
      "<ipython-input-38-98688e61d789>:21: SettingWithCopyWarning: \n",
      "A value is trying to be set on a copy of a slice from a DataFrame.\n",
      "Try using .loc[row_indexer,col_indexer] = value instead\n",
      "\n",
      "See the caveats in the documentation: https://pandas.pydata.org/pandas-docs/stable/user_guide/indexing.html#returning-a-view-versus-a-copy\n",
      "  fine_grained_evaluation_upper['noraml_prediction_gt_rank'] = fine_grained_evaluation_upper[['normal_logits', 'ground_true_difficulty_level']].apply(cal_gt_value_rank_in_array, axis=1)\n",
      "<ipython-input-38-98688e61d789>:22: SettingWithCopyWarning: \n",
      "A value is trying to be set on a copy of a slice from a DataFrame.\n",
      "Try using .loc[row_indexer,col_indexer] = value instead\n",
      "\n",
      "See the caveats in the documentation: https://pandas.pydata.org/pandas-docs/stable/user_guide/indexing.html#returning-a-view-versus-a-copy\n",
      "  fine_grained_evaluation_upper['rerank_prediction_gt_rank'] = fine_grained_evaluation_upper[['rerank_logits', 'ground_true_difficulty_level']].apply(cal_gt_value_rank_in_array, axis=1)\n"
     ]
    },
    {
     "name": "stdout",
     "output_type": "stream",
     "text": [
      "normal MRR is  0.41134960970185475\n",
      "rerank MRR is  0.4251750895960516\n",
      "\n",
      "For Decile_for_entropy_difficulty_level of  0\n",
      "normal MRR is  0.9192532761439713\n",
      "rerank MRR is  0.920058223844352\n",
      "\n",
      "For Decile_for_entropy_difficulty_level of  1\n",
      "normal MRR is  0.6282369513425696\n",
      "rerank MRR is  0.6351983856537764\n",
      "\n",
      "For Decile_for_entropy_difficulty_level of  2\n",
      "normal MRR is  0.4765071821896221\n",
      "rerank MRR is  0.4882010634601651\n",
      "\n",
      "For Decile_for_entropy_difficulty_level of  3\n",
      "normal MRR is  0.40855229640516466\n",
      "rerank MRR is  0.42755733350152836\n",
      "\n",
      "For Decile_for_entropy_difficulty_level of  4\n",
      "normal MRR is  0.37877113538220697\n",
      "rerank MRR is  0.3954236763203345\n",
      "\n",
      "For Decile_for_entropy_difficulty_level of  5\n",
      "normal MRR is  0.3372820301797006\n",
      "rerank MRR is  0.35306458793520856\n",
      "\n",
      "For Decile_for_entropy_difficulty_level of  6\n",
      "normal MRR is  0.3013194299789594\n",
      "rerank MRR is  0.3150929735335344\n",
      "\n",
      "For Decile_for_entropy_difficulty_level of  7\n",
      "normal MRR is  0.2685965863893766\n",
      "rerank MRR is  0.28717028673820505\n",
      "\n",
      "For Decile_for_entropy_difficulty_level of  8\n",
      "normal MRR is  0.2222370709690678\n",
      "rerank MRR is  0.2362209416792299\n",
      "\n",
      "For Decile_for_entropy_difficulty_level of  9\n",
      "normal MRR is  0.1726698790788785\n",
      "rerank MRR is  0.19369347646176638\n",
      "\n",
      "For lower data:\n"
     ]
    },
    {
     "name": "stderr",
     "output_type": "stream",
     "text": [
      "<ipython-input-38-98688e61d789>:37: SettingWithCopyWarning: \n",
      "A value is trying to be set on a copy of a slice from a DataFrame.\n",
      "Try using .loc[row_indexer,col_indexer] = value instead\n",
      "\n",
      "See the caveats in the documentation: https://pandas.pydata.org/pandas-docs/stable/user_guide/indexing.html#returning-a-view-versus-a-copy\n",
      "  fine_grained_evaluation_lower['noraml_prediction_gt_rank'] = fine_grained_evaluation_lower[['normal_logits', 'ground_true_difficulty_level']].apply(cal_gt_value_rank_in_array, axis=1)\n",
      "<ipython-input-38-98688e61d789>:38: SettingWithCopyWarning: \n",
      "A value is trying to be set on a copy of a slice from a DataFrame.\n",
      "Try using .loc[row_indexer,col_indexer] = value instead\n",
      "\n",
      "See the caveats in the documentation: https://pandas.pydata.org/pandas-docs/stable/user_guide/indexing.html#returning-a-view-versus-a-copy\n",
      "  fine_grained_evaluation_lower['rerank_prediction_gt_rank'] = fine_grained_evaluation_lower[['rerank_logits', 'ground_true_difficulty_level']].apply(cal_gt_value_rank_in_array, axis=1)\n"
     ]
    },
    {
     "name": "stdout",
     "output_type": "stream",
     "text": [
      "normal MRR is  0.5541266350972042\n",
      "rerank MRR is  0.5602299038996008\n",
      "\n",
      "For Decile_for_entropy_difficulty_level of  0\n",
      "normal MRR is  0.9573491627060681\n",
      "rerank MRR is  0.9581756681184148\n",
      "\n",
      "For Decile_for_entropy_difficulty_level of  1\n",
      "normal MRR is  0.8308374305983514\n",
      "rerank MRR is  0.8329569406336598\n",
      "\n",
      "For Decile_for_entropy_difficulty_level of  2\n",
      "normal MRR is  0.715817673339735\n",
      "rerank MRR is  0.7190847608187969\n",
      "\n",
      "For Decile_for_entropy_difficulty_level of  3\n",
      "normal MRR is  0.6281232197610143\n",
      "rerank MRR is  0.6325774801460288\n",
      "\n",
      "For Decile_for_entropy_difficulty_level of  4\n",
      "normal MRR is  0.5515248462364406\n",
      "rerank MRR is  0.5566676171789113\n",
      "\n",
      "For Decile_for_entropy_difficulty_level of  5\n",
      "normal MRR is  0.4990956480600334\n",
      "rerank MRR is  0.5061892766263605\n",
      "\n",
      "For Decile_for_entropy_difficulty_level of  6\n",
      "normal MRR is  0.4418335474618041\n",
      "rerank MRR is  0.4483458278378221\n",
      "\n",
      "For Decile_for_entropy_difficulty_level of  7\n",
      "normal MRR is  0.3799645310364387\n",
      "rerank MRR is  0.38862955050778397\n",
      "\n",
      "For Decile_for_entropy_difficulty_level of  8\n",
      "normal MRR is  0.31185483911474576\n",
      "rerank MRR is  0.32232284461423377\n",
      "\n",
      "For Decile_for_entropy_difficulty_level of  9\n",
      "normal MRR is  0.22486262572133792\n",
      "rerank MRR is  0.2373461540449757\n",
      "\n"
     ]
    }
   ],
   "source": [
    "def cal_gt_value_rank_in_array(x):\n",
    "    logits_array, ground_true_place = x\n",
    "    array = (-1) * np.array(logits_array) #for reverse ranking\n",
    "    temp = array.argsort()\n",
    "    ranks = np.empty_like(temp)\n",
    "    ranks[temp] = np.arange(len(array))\n",
    "    return ranks[ground_true_place]\n",
    "\n",
    "def mean_reciprocal_rank(gt_ranks, CAN_NUM=5):\n",
    "    rs = []\n",
    "    for i in range(len(gt_ranks)):\n",
    "        tmp = np.zeros(CAN_NUM)\n",
    "        tmp[gt_ranks[i]] = 1\n",
    "        rs.append(tmp)\n",
    "    \n",
    "    rs = (np.asarray(r).nonzero()[0] for r in rs)\n",
    "    return np.mean([1. / (r[0] + 1) if r.size else 0. for r in rs]) \n",
    "\n",
    "print(\"For upper data:\")\n",
    "\n",
    "fine_grained_evaluation_upper['noraml_prediction_gt_rank'] = fine_grained_evaluation_upper[['normal_logits', 'ground_true_difficulty_level']].apply(cal_gt_value_rank_in_array, axis=1)\n",
    "fine_grained_evaluation_upper['rerank_prediction_gt_rank'] = fine_grained_evaluation_upper[['rerank_logits', 'ground_true_difficulty_level']].apply(cal_gt_value_rank_in_array, axis=1)\n",
    "\n",
    "print(\"normal MRR is \", mean_reciprocal_rank(gt_ranks=fine_grained_evaluation_upper['noraml_prediction_gt_rank'].tolist(), CAN_NUM=100))\n",
    "print(\"rerank MRR is \", mean_reciprocal_rank(gt_ranks=fine_grained_evaluation_upper['rerank_prediction_gt_rank'].tolist(), CAN_NUM=100))\n",
    "print()\n",
    "\n",
    "for i in range(10):\n",
    "    this_level = fine_grained_evaluation_upper[fine_grained_evaluation_upper['Decile_for_entropy_difficulty_level'] == i]\n",
    "    print(\"For Decile_for_entropy_difficulty_level of \", str(i))\n",
    "    print(\"normal MRR is \", mean_reciprocal_rank(gt_ranks=this_level['noraml_prediction_gt_rank'].tolist(), CAN_NUM=100))\n",
    "    print(\"rerank MRR is \", mean_reciprocal_rank(gt_ranks=this_level['rerank_prediction_gt_rank'].tolist(), CAN_NUM=100))\n",
    "    print()\n",
    "    \n",
    "print(\"For lower data:\")\n",
    "\n",
    "fine_grained_evaluation_lower['noraml_prediction_gt_rank'] = fine_grained_evaluation_lower[['normal_logits', 'ground_true_difficulty_level']].apply(cal_gt_value_rank_in_array, axis=1)\n",
    "fine_grained_evaluation_lower['rerank_prediction_gt_rank'] = fine_grained_evaluation_lower[['rerank_logits', 'ground_true_difficulty_level']].apply(cal_gt_value_rank_in_array, axis=1)\n",
    "\n",
    "print(\"normal MRR is \", mean_reciprocal_rank(gt_ranks=fine_grained_evaluation_lower['noraml_prediction_gt_rank'].tolist(), CAN_NUM=100))\n",
    "print(\"rerank MRR is \", mean_reciprocal_rank(gt_ranks=fine_grained_evaluation_lower['rerank_prediction_gt_rank'].tolist(), CAN_NUM=100))\n",
    "print()\n",
    "\n",
    "for i in range(10):\n",
    "    this_level = fine_grained_evaluation_lower[fine_grained_evaluation_lower['Decile_for_entropy_difficulty_level'] == i]\n",
    "    print(\"For Decile_for_entropy_difficulty_level of \", str(i))\n",
    "    print(\"normal MRR is \", mean_reciprocal_rank(gt_ranks=this_level['noraml_prediction_gt_rank'].tolist(), CAN_NUM=100))\n",
    "    print(\"rerank MRR is \", mean_reciprocal_rank(gt_ranks=this_level['rerank_prediction_gt_rank'].tolist(), CAN_NUM=100))\n",
    "    print()"
   ]
  },
  {
   "cell_type": "code",
   "execution_count": 49,
   "id": "leading-sleep",
   "metadata": {
    "scrolled": true
   },
   "outputs": [
    {
     "data": {
      "image/png": "[encoded data removed]",
      "text/plain": [
       "<Figure size 432x288 with 1 Axes>"
      ]
     },
     "metadata": {
      "needs_background": "light"
     },
     "output_type": "display_data"
    },
    {
     "data": {
      "image/png": "[encoded data removed]",
      "text/plain": [
       "<Figure size 432x288 with 1 Axes>"
      ]
     },
     "metadata": {
      "needs_background": "light"
     },
     "output_type": "display_data"
    },
    {
     "data": {
      "image/png": "[encoded data removed]",
      "text/plain": [
       "<Figure size 432x288 with 1 Axes>"
      ]
     },
     "metadata": {
      "needs_background": "light"
     },
     "output_type": "display_data"
    },
    {
     "data": {
      "image/png": "[encoded data removed]",
      "text/plain": [
       "<Figure size 432x288 with 1 Axes>"
      ]
     },
     "metadata": {
      "needs_background": "light"
     },
     "output_type": "display_data"
    }
   ],
   "source": [
    "fine_grained_evaluation_NOUN = fine_grained_evaluation[fine_grained_evaluation['ground_true_pos'] == \"NOUN\"]\n",
    "\n",
    "plt.scatter(fine_grained_evaluation_NOUN['entropy_difficulty_level'], fine_grained_evaluation_NOUN['normal_loss'])\n",
    "plt.xlabel(\"entropy_difficulty_level\")\n",
    "plt.ylabel(\"normal_loss\")\n",
    "\n",
    "plt.show()\n",
    "\n",
    "plt.scatter(fine_grained_evaluation_NOUN['entropy_difficulty_level'], fine_grained_evaluation_NOUN['rerank_loss'])\n",
    "plt.xlabel(\"entropy_difficulty_level\")\n",
    "plt.ylabel(\"rerank_loss\")\n",
    "\n",
    "plt.show()\n",
    "\n",
    "fine_grained_evaluation_PROPN = fine_grained_evaluation[fine_grained_evaluation['ground_true_pos'] == \"PROPN\"]\n",
    "\n",
    "plt.scatter(fine_grained_evaluation_PROPN['entropy_difficulty_level'], fine_grained_evaluation_PROPN['normal_loss'])\n",
    "plt.xlabel(\"entropy_difficulty_level\")\n",
    "plt.ylabel(\"normal_loss\")\n",
    "\n",
    "plt.show()\n",
    "\n",
    "plt.scatter(fine_grained_evaluation_PROPN['entropy_difficulty_level'], fine_grained_evaluation_PROPN['rerank_loss'])\n",
    "plt.xlabel(\"entropy_difficulty_level\")\n",
    "plt.ylabel(\"rerank_loss\")\n",
    "\n",
    "plt.show()"
   ]
  },
  {
   "cell_type": "code",
   "execution_count": 51,
   "id": "further-resource",
   "metadata": {
    "scrolled": true
   },
   "outputs": [
    {
     "name": "stdout",
     "output_type": "stream",
     "text": [
      "for NOUN:\n",
      "For Decile_for_entropy_difficulty_level of  0\n",
      "avg normal_loss: 0.2874893889738978\n",
      "avg rerank_loss: 0.2852531810537345\n",
      "\n",
      "For Decile_for_entropy_difficulty_level of  1\n",
      "avg normal_loss: 1.1443790006071264\n",
      "avg rerank_loss: 1.1134340249067305\n",
      "\n",
      "For Decile_for_entropy_difficulty_level of  2\n",
      "avg normal_loss: 2.268839827258843\n",
      "avg rerank_loss: 2.178242364724938\n",
      "\n",
      "For Decile_for_entropy_difficulty_level of  3\n",
      "avg normal_loss: 3.0047051586901405\n",
      "avg rerank_loss: 2.8983415475251135\n",
      "\n",
      "For Decile_for_entropy_difficulty_level of  4\n",
      "avg normal_loss: 3.2809973073108476\n",
      "avg rerank_loss: 3.1418299432448102\n",
      "\n",
      "For Decile_for_entropy_difficulty_level of  5\n",
      "avg normal_loss: 3.552095637946531\n",
      "avg rerank_loss: 3.415989496029606\n",
      "\n",
      "For Decile_for_entropy_difficulty_level of  6\n",
      "avg normal_loss: 3.6956063939088084\n",
      "avg rerank_loss: 3.560873813865219\n",
      "\n",
      "For Decile_for_entropy_difficulty_level of  7\n",
      "avg normal_loss: 3.7258209884074933\n",
      "avg rerank_loss: 3.612014110070175\n",
      "\n",
      "For Decile_for_entropy_difficulty_level of  8\n",
      "avg normal_loss: 3.9100767771280616\n",
      "avg rerank_loss: 3.800195093772339\n",
      "\n",
      "For Decile_for_entropy_difficulty_level of  9\n",
      "avg normal_loss: 4.13369069122923\n",
      "avg rerank_loss: 4.01124358864878\n",
      "\n",
      "\n",
      "for PROPN:\n",
      "For Decile_for_entropy_difficulty_level of  0\n",
      "avg normal_loss: 0.6928795679086294\n",
      "avg rerank_loss: 0.6523899788489372\n",
      "\n",
      "For Decile_for_entropy_difficulty_level of  1\n",
      "avg normal_loss: 2.3039154895864056\n",
      "avg rerank_loss: 2.163868144991621\n",
      "\n",
      "For Decile_for_entropy_difficulty_level of  2\n",
      "avg normal_loss: 3.2707841413201026\n",
      "avg rerank_loss: 3.0353685582558247\n",
      "\n",
      "For Decile_for_entropy_difficulty_level of  3\n",
      "avg normal_loss: 2.9656700268004403\n",
      "avg rerank_loss: 2.8424859720938813\n",
      "\n",
      "For Decile_for_entropy_difficulty_level of  4\n",
      "avg normal_loss: 3.533948451280594\n",
      "avg rerank_loss: 3.290926213133825\n",
      "\n",
      "For Decile_for_entropy_difficulty_level of  5\n",
      "avg normal_loss: 3.6347106010181824\n",
      "avg rerank_loss: 3.3770478884106434\n",
      "\n",
      "For Decile_for_entropy_difficulty_level of  6\n",
      "avg normal_loss: 3.8325760689648716\n",
      "avg rerank_loss: 3.593807379208748\n",
      "\n",
      "For Decile_for_entropy_difficulty_level of  7\n",
      "avg normal_loss: 3.9506729667428018\n",
      "avg rerank_loss: 3.763881702161367\n",
      "\n",
      "For Decile_for_entropy_difficulty_level of  8\n",
      "avg normal_loss: 4.129966941542323\n",
      "avg rerank_loss: 3.962325765634687\n",
      "\n",
      "For Decile_for_entropy_difficulty_level of  9\n",
      "avg normal_loss: 4.302450096566383\n",
      "avg rerank_loss: 4.135946783709199\n",
      "\n"
     ]
    },
    {
     "name": "stderr",
     "output_type": "stream",
     "text": [
      "<ipython-input-51-ee672f0d6157>:5: SettingWithCopyWarning: \n",
      "A value is trying to be set on a copy of a slice from a DataFrame.\n",
      "Try using .loc[row_indexer,col_indexer] = value instead\n",
      "\n",
      "See the caveats in the documentation: https://pandas.pydata.org/pandas-docs/stable/user_guide/indexing.html#returning-a-view-versus-a-copy\n",
      "  fine_grained_evaluation_NOUN[\"Decile_for_entropy_difficulty_level\"] = pd.qcut(fine_grained_evaluation_NOUN['entropy_difficulty_level'], 10,\n",
      "<ipython-input-51-ee672f0d6157>:16: SettingWithCopyWarning: \n",
      "A value is trying to be set on a copy of a slice from a DataFrame.\n",
      "Try using .loc[row_indexer,col_indexer] = value instead\n",
      "\n",
      "See the caveats in the documentation: https://pandas.pydata.org/pandas-docs/stable/user_guide/indexing.html#returning-a-view-versus-a-copy\n",
      "  fine_grained_evaluation_PROPN[\"Decile_for_entropy_difficulty_level\"] = pd.qcut(fine_grained_evaluation_PROPN['entropy_difficulty_level'], 10,\n"
     ]
    }
   ],
   "source": [
    "import pandas as pd \n",
    "import numpy as np \n",
    "\n",
    "print(\"for NOUN:\")\n",
    "fine_grained_evaluation_NOUN[\"Decile_for_entropy_difficulty_level\"] = pd.qcut(fine_grained_evaluation_NOUN['entropy_difficulty_level'], 10,\n",
    "       labels=[0, 1, 2, 3, 4, 5, 6, 7, 8, 9])\n",
    "\n",
    "for i in range(10):\n",
    "    this_level = fine_grained_evaluation_NOUN[fine_grained_evaluation_NOUN['Decile_for_entropy_difficulty_level'] == i]\n",
    "    print(\"For Decile_for_entropy_difficulty_level of \", str(i))\n",
    "    print(\"avg normal_loss:\", this_level['normal_loss'].mean())\n",
    "    print(\"avg rerank_loss:\", this_level['rerank_loss'].mean())\n",
    "    print()\n",
    "print()\n",
    "print(\"for PROPN:\")\n",
    "fine_grained_evaluation_PROPN[\"Decile_for_entropy_difficulty_level\"] = pd.qcut(fine_grained_evaluation_PROPN['entropy_difficulty_level'], 10,\n",
    "       labels=[0, 1, 2, 3, 4, 5, 6, 7, 8, 9])\n",
    "\n",
    "for i in range(10):\n",
    "    this_level = fine_grained_evaluation_PROPN[fine_grained_evaluation_PROPN['Decile_for_entropy_difficulty_level'] == i]\n",
    "    print(\"For Decile_for_entropy_difficulty_level of \", str(i))\n",
    "    print(\"avg normal_loss:\", this_level['normal_loss'].mean())\n",
    "    print(\"avg rerank_loss:\", this_level['rerank_loss'].mean())\n",
    "    print()"
   ]
  },
  {
   "cell_type": "code",
   "execution_count": 50,
   "id": "future-attraction",
   "metadata": {
    "scrolled": true
   },
   "outputs": [
    {
     "name": "stdout",
     "output_type": "stream",
     "text": [
      "For NOUN data:\n"
     ]
    },
    {
     "name": "stderr",
     "output_type": "stream",
     "text": [
      "<ipython-input-50-68a8a39785e8>:21: SettingWithCopyWarning: \n",
      "A value is trying to be set on a copy of a slice from a DataFrame.\n",
      "Try using .loc[row_indexer,col_indexer] = value instead\n",
      "\n",
      "See the caveats in the documentation: https://pandas.pydata.org/pandas-docs/stable/user_guide/indexing.html#returning-a-view-versus-a-copy\n",
      "  fine_grained_evaluation_NOUN['noraml_prediction_gt_rank'] = fine_grained_evaluation_NOUN[['normal_logits', 'ground_true_difficulty_level']].apply(cal_gt_value_rank_in_array, axis=1)\n",
      "<ipython-input-50-68a8a39785e8>:22: SettingWithCopyWarning: \n",
      "A value is trying to be set on a copy of a slice from a DataFrame.\n",
      "Try using .loc[row_indexer,col_indexer] = value instead\n",
      "\n",
      "See the caveats in the documentation: https://pandas.pydata.org/pandas-docs/stable/user_guide/indexing.html#returning-a-view-versus-a-copy\n",
      "  fine_grained_evaluation_NOUN['rerank_prediction_gt_rank'] = fine_grained_evaluation_NOUN[['rerank_logits', 'ground_true_difficulty_level']].apply(cal_gt_value_rank_in_array, axis=1)\n"
     ]
    },
    {
     "name": "stdout",
     "output_type": "stream",
     "text": [
      "normal MRR is  0.465821365832006\n",
      "rerank MRR is  0.480113009333744\n",
      "\n",
      "For Decile_for_entropy_difficulty_level of  0\n",
      "normal MRR is  0.9509204382662018\n",
      "rerank MRR is  0.9513649257567405\n",
      "\n",
      "For Decile_for_entropy_difficulty_level of  1\n",
      "normal MRR is  0.7810688014171189\n",
      "rerank MRR is  0.7839825837665636\n",
      "\n",
      "For Decile_for_entropy_difficulty_level of  2\n",
      "normal MRR is  0.6298172670915841\n",
      "rerank MRR is  0.6396764851873624\n",
      "\n",
      "For Decile_for_entropy_difficulty_level of  3\n",
      "normal MRR is  0.5200283661162515\n",
      "rerank MRR is  0.529932050805649\n",
      "\n",
      "For Decile_for_entropy_difficulty_level of  4\n",
      "normal MRR is  0.44825818985946425\n",
      "rerank MRR is  0.45834881908083625\n",
      "\n",
      "For Decile_for_entropy_difficulty_level of  5\n",
      "normal MRR is  0.4048743780667034\n",
      "rerank MRR is  0.4250915895121774\n",
      "\n",
      "For Decile_for_entropy_difficulty_level of  6\n",
      "normal MRR is  0.35035164606605723\n",
      "rerank MRR is  0.368556118031144\n",
      "\n",
      "For Decile_for_entropy_difficulty_level of  7\n",
      "normal MRR is  0.30294007461120104\n",
      "rerank MRR is  0.32332995778168155\n",
      "\n",
      "For Decile_for_entropy_difficulty_level of  8\n",
      "normal MRR is  0.273621744943104\n",
      "rerank MRR is  0.2947138026342154\n",
      "\n",
      "For Decile_for_entropy_difficulty_level of  9\n",
      "normal MRR is  0.20668244733851018\n",
      "rerank MRR is  0.2281600011163305\n",
      "\n",
      "For PROPN data:\n"
     ]
    },
    {
     "name": "stderr",
     "output_type": "stream",
     "text": [
      "<ipython-input-50-68a8a39785e8>:37: SettingWithCopyWarning: \n",
      "A value is trying to be set on a copy of a slice from a DataFrame.\n",
      "Try using .loc[row_indexer,col_indexer] = value instead\n",
      "\n",
      "See the caveats in the documentation: https://pandas.pydata.org/pandas-docs/stable/user_guide/indexing.html#returning-a-view-versus-a-copy\n",
      "  fine_grained_evaluation_PROPN['noraml_prediction_gt_rank'] = fine_grained_evaluation_PROPN[['normal_logits', 'ground_true_difficulty_level']].apply(cal_gt_value_rank_in_array, axis=1)\n",
      "<ipython-input-50-68a8a39785e8>:38: SettingWithCopyWarning: \n",
      "A value is trying to be set on a copy of a slice from a DataFrame.\n",
      "Try using .loc[row_indexer,col_indexer] = value instead\n",
      "\n",
      "See the caveats in the documentation: https://pandas.pydata.org/pandas-docs/stable/user_guide/indexing.html#returning-a-view-versus-a-copy\n",
      "  fine_grained_evaluation_PROPN['rerank_prediction_gt_rank'] = fine_grained_evaluation_PROPN[['rerank_logits', 'ground_true_difficulty_level']].apply(cal_gt_value_rank_in_array, axis=1)\n"
     ]
    },
    {
     "name": "stdout",
     "output_type": "stream",
     "text": [
      "normal MRR is  0.3727511362001955\n",
      "rerank MRR is  0.39604305159855646\n",
      "\n",
      "For Decile_for_entropy_difficulty_level of  0\n",
      "normal MRR is  0.9366499766707688\n",
      "rerank MRR is  0.9387101116876286\n",
      "\n",
      "For Decile_for_entropy_difficulty_level of  1\n",
      "normal MRR is  0.7132932723699169\n",
      "rerank MRR is  0.7199481137003519\n",
      "\n",
      "For Decile_for_entropy_difficulty_level of  2\n",
      "normal MRR is  0.5337881177758633\n",
      "rerank MRR is  0.5453735080164368\n",
      "\n",
      "For Decile_for_entropy_difficulty_level of  3\n",
      "normal MRR is  0.43985995851392756\n",
      "rerank MRR is  0.45696452306903085\n",
      "\n",
      "For Decile_for_entropy_difficulty_level of  4\n",
      "normal MRR is  0.36483118978801904\n",
      "rerank MRR is  0.3924304339755743\n",
      "\n",
      "For Decile_for_entropy_difficulty_level of  5\n",
      "normal MRR is  0.3054309144458378\n",
      "rerank MRR is  0.3287486593753462\n",
      "\n",
      "For Decile_for_entropy_difficulty_level of  6\n",
      "normal MRR is  0.2883228820963339\n",
      "rerank MRR is  0.3236489401356181\n",
      "\n",
      "For Decile_for_entropy_difficulty_level of  7\n",
      "normal MRR is  0.25428833153375163\n",
      "rerank MRR is  0.28440056546058234\n",
      "\n",
      "For Decile_for_entropy_difficulty_level of  8\n",
      "normal MRR is  0.21104401057382022\n",
      "rerank MRR is  0.24454408911072464\n",
      "\n",
      "For Decile_for_entropy_difficulty_level of  9\n",
      "normal MRR is  0.1710599134201883\n",
      "rerank MRR is  0.19607667233196946\n",
      "\n"
     ]
    }
   ],
   "source": [
    "def cal_gt_value_rank_in_array(x):\n",
    "    logits_array, ground_true_place = x\n",
    "    array = (-1) * np.array(logits_array) #for reverse ranking\n",
    "    temp = array.argsort()\n",
    "    ranks = np.empty_like(temp)\n",
    "    ranks[temp] = np.arange(len(array))\n",
    "    return ranks[ground_true_place]\n",
    "\n",
    "def mean_reciprocal_rank(gt_ranks, CAN_NUM=5):\n",
    "    rs = []\n",
    "    for i in range(len(gt_ranks)):\n",
    "        tmp = np.zeros(CAN_NUM)\n",
    "        tmp[gt_ranks[i]] = 1\n",
    "        rs.append(tmp)\n",
    "    \n",
    "    rs = (np.asarray(r).nonzero()[0] for r in rs)\n",
    "    return np.mean([1. / (r[0] + 1) if r.size else 0. for r in rs]) \n",
    "\n",
    "print(\"For NOUN data:\")\n",
    "\n",
    "fine_grained_evaluation_NOUN['noraml_prediction_gt_rank'] = fine_grained_evaluation_NOUN[['normal_logits', 'ground_true_difficulty_level']].apply(cal_gt_value_rank_in_array, axis=1)\n",
    "fine_grained_evaluation_NOUN['rerank_prediction_gt_rank'] = fine_grained_evaluation_NOUN[['rerank_logits', 'ground_true_difficulty_level']].apply(cal_gt_value_rank_in_array, axis=1)\n",
    "\n",
    "print(\"normal MRR is \", mean_reciprocal_rank(gt_ranks=fine_grained_evaluation_NOUN['noraml_prediction_gt_rank'].tolist(), CAN_NUM=100))\n",
    "print(\"rerank MRR is \", mean_reciprocal_rank(gt_ranks=fine_grained_evaluation_NOUN['rerank_prediction_gt_rank'].tolist(), CAN_NUM=100))\n",
    "print()\n",
    "\n",
    "for i in range(10):\n",
    "    this_level = fine_grained_evaluation_NOUN[fine_grained_evaluation_NOUN['Decile_for_entropy_difficulty_level'] == i]\n",
    "    print(\"For Decile_for_entropy_difficulty_level of \", str(i))\n",
    "    print(\"normal MRR is \", mean_reciprocal_rank(gt_ranks=this_level['noraml_prediction_gt_rank'].tolist(), CAN_NUM=100))\n",
    "    print(\"rerank MRR is \", mean_reciprocal_rank(gt_ranks=this_level['rerank_prediction_gt_rank'].tolist(), CAN_NUM=100))\n",
    "    print()\n",
    "    \n",
    "print(\"For PROPN data:\")\n",
    "\n",
    "fine_grained_evaluation_PROPN['noraml_prediction_gt_rank'] = fine_grained_evaluation_PROPN[['normal_logits', 'ground_true_difficulty_level']].apply(cal_gt_value_rank_in_array, axis=1)\n",
    "fine_grained_evaluation_PROPN['rerank_prediction_gt_rank'] = fine_grained_evaluation_PROPN[['rerank_logits', 'ground_true_difficulty_level']].apply(cal_gt_value_rank_in_array, axis=1)\n",
    "\n",
    "print(\"normal MRR is \", mean_reciprocal_rank(gt_ranks=fine_grained_evaluation_PROPN['noraml_prediction_gt_rank'].tolist(), CAN_NUM=100))\n",
    "print(\"rerank MRR is \", mean_reciprocal_rank(gt_ranks=fine_grained_evaluation_PROPN['rerank_prediction_gt_rank'].tolist(), CAN_NUM=100))\n",
    "print()\n",
    "\n",
    "for i in range(10):\n",
    "    this_level = fine_grained_evaluation_PROPN[fine_grained_evaluation_PROPN['Decile_for_entropy_difficulty_level'] == i]\n",
    "    print(\"For Decile_for_entropy_difficulty_level of \", str(i))\n",
    "    print(\"normal MRR is \", mean_reciprocal_rank(gt_ranks=this_level['noraml_prediction_gt_rank'].tolist(), CAN_NUM=100))\n",
    "    print(\"rerank MRR is \", mean_reciprocal_rank(gt_ranks=this_level['rerank_prediction_gt_rank'].tolist(), CAN_NUM=100))\n",
    "    print()"
   ]
  },
  {
   "cell_type": "code",
   "execution_count": null,
   "id": "stunning-pendant",
   "metadata": {},
   "outputs": [],
   "source": []
  }
 ],
 "metadata": {
  "kernelspec": {
   "display_name": "Python 3",
   "language": "python",
   "name": "python3"
  },
  "language_info": {
   "codemirror_mode": {
    "name": "ipython",
    "version": 3
   },
   "file_extension": ".py",
   "mimetype": "text/x-python",
   "name": "python",
   "nbconvert_exporter": "python",
   "pygments_lexer": "ipython3",
   "version": "3.8.5"
  }
 },
 "nbformat": 4,
 "nbformat_minor": 5
}
