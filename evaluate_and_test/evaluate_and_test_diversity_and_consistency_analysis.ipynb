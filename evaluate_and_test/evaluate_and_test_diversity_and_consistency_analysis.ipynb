{
 "cells": [
  {
   "cell_type": "code",
   "execution_count": 1,
   "id": "unnecessary-bhutan",
   "metadata": {},
   "outputs": [],
   "source": [
    "import pandas as pd\n",
    "\n",
    "generated_stage1_file=open('generated_stage1.txt','r')\n",
    "generated_stage2_file=open('generated_stage2.txt','r')\n",
    "word_raw_list_and_word_raw_rest = pd.read_pickle(\"word_raw_list_and_word_raw_rest.pkl\")\n",
    "contexts = []\n",
    "stage1_generated1 = []\n",
    "stage1_generated2 = []\n",
    "stage1_generated3 = []\n",
    "stage2_generated1 = []\n",
    "stage2_generated2 = []\n",
    "stage2_generated3 = []\n",
    "# word_raw_list = []\n",
    "word_raw_rest_list = []\n",
    "\n",
    "lines_stage1_file = generated_stage1_file.readlines()\n",
    "lines_stage2_file = generated_stage2_file.readlines()\n",
    "assert len(lines_stage1_file) == len(lines_stage2_file)\n",
    "\n",
    "lines_stage1_file = lines_stage1_file[:22800]\n",
    "lines_stage2_file = lines_stage2_file[:22800]\n",
    "\n",
    "from functools import reduce \n",
    "from operator import mul\n",
    "\n",
    "def reshape(lst, shape):\n",
    "    if len(shape) == 1:\n",
    "        return lst\n",
    "    n = reduce(mul, shape[1:])\n",
    "    return [reshape(lst[i*n:(i+1)*n], shape[1:]) for i in range(len(lst)//n)]\n",
    "\n",
    "shape = [len(lines_stage1_file)/19, 19]\n",
    "lines_stage1_file = reshape(lines_stage1_file, shape)\n",
    "lines_stage2_file = reshape(lines_stage2_file, shape)\n",
    "\n",
    "count = 0\n",
    "for i in range(len(lines_stage1_file)):\n",
    "    line1 = lines_stage1_file[i]\n",
    "    line2 = lines_stage2_file[i]\n",
    "    \n",
    "    contexts.append(line1[2].strip())\n",
    "    stage1_generated1.append(line1[4].split(\"single-facet 0:\")[1].strip())\n",
    "    stage1_generated2.append(line1[5].split(\"single-facet 1:\")[1].strip())\n",
    "    stage1_generated3.append(line1[6].split(\"single-facet 2:\")[1].strip())\n",
    "#     word_raw_list.append(word_raw_list_and_word_raw_rest.iloc[i]['word_raw_list'][0])\n",
    "    word_raw_rest_list.append(\" \".join(word_raw_list_and_word_raw_rest.iloc[i]['word_raw_rest_list'][0]))\n",
    "    \n",
    "    contexts.append(line1[8].strip())\n",
    "    stage1_generated1.append(line1[10].split(\"single-facet 0:\")[1].strip())\n",
    "    stage1_generated2.append(line1[11].split(\"single-facet 1:\")[1].strip())\n",
    "    stage1_generated3.append(line1[12].split(\"single-facet 2:\")[1].strip())\n",
    "#     word_raw_list.append(word_raw_list_and_word_raw_rest.iloc[i]['word_raw_list'][1])\n",
    "    word_raw_rest_list.append(\" \".join(word_raw_list_and_word_raw_rest.iloc[i]['word_raw_rest_list'][1]))\n",
    "    \n",
    "    contexts.append(line1[14].strip())\n",
    "    stage1_generated1.append(line1[16].split(\"single-facet 0:\")[1].strip())\n",
    "    stage1_generated2.append(line1[17].split(\"single-facet 1:\")[1].strip())\n",
    "    stage1_generated3.append(line1[18].split(\"single-facet 2:\")[1].strip())\n",
    "#     word_raw_list.append(word_raw_list_and_word_raw_rest.iloc[i]['word_raw_list'][2])\n",
    "    word_raw_rest_list.append(\" \".join(word_raw_list_and_word_raw_rest.iloc[i]['word_raw_rest_list'][2]))\n",
    "    \n",
    "    stage2_generated1.append(line2[4].split(\"single-facet 0:\")[1].strip())\n",
    "    stage2_generated2.append(line2[5].split(\"single-facet 1:\")[1].strip())\n",
    "    stage2_generated3.append(line2[6].split(\"single-facet 2:\")[1].strip())\n",
    "    \n",
    "    stage2_generated1.append(line2[10].split(\"single-facet 0:\")[1].strip())\n",
    "    stage2_generated2.append(line2[11].split(\"single-facet 1:\")[1].strip())\n",
    "    stage2_generated3.append(line2[12].split(\"single-facet 2:\")[1].strip())\n",
    "\n",
    "    stage2_generated1.append(line2[16].split(\"single-facet 0:\")[1].strip())\n",
    "    stage2_generated2.append(line2[17].split(\"single-facet 1:\")[1].strip())\n",
    "    stage2_generated3.append(line2[18].split(\"single-facet 2:\")[1].strip())\n",
    "    \n",
    "generated_df = pd.DataFrame({\"context\": contexts,\n",
    "                             \"stage1_generated1\": stage1_generated1,\n",
    "                             \"stage1_generated2\": stage1_generated2,\n",
    "                             \"stage1_generated3\": stage1_generated3,\n",
    "                             \"stage2_generated1\": stage2_generated1,\n",
    "                             \"stage2_generated2\": stage2_generated2,\n",
    "                             \"stage2_generated3\": stage2_generated3,\n",
    "#                              \"word_raw_list\": word_raw_list,\n",
    "                             \"rest_words\": word_raw_rest_list})"
   ]
  },
  {
   "cell_type": "code",
   "execution_count": 2,
   "id": "homeless-sacramento",
   "metadata": {},
   "outputs": [],
   "source": [
    "# generated_df.to_pickle(\"evaluate_and_test/stage1_and_stage2_generation.pkl\")"
   ]
  },
  {
   "cell_type": "code",
   "execution_count": 3,
   "id": "conservative-howard",
   "metadata": {},
   "outputs": [
    {
     "data": {
      "text/html": [
       "<div>\n",
       "<style scoped>\n",
       "    .dataframe tbody tr th:only-of-type {\n",
       "        vertical-align: middle;\n",
       "    }\n",
       "\n",
       "    .dataframe tbody tr th {\n",
       "        vertical-align: top;\n",
       "    }\n",
       "\n",
       "    .dataframe thead th {\n",
       "        text-align: right;\n",
       "    }\n",
       "</style>\n",
       "<table border=\"1\" class=\"dataframe\">\n",
       "  <thead>\n",
       "    <tr style=\"text-align: right;\">\n",
       "      <th></th>\n",
       "      <th>context</th>\n",
       "      <th>stage1_generated1</th>\n",
       "      <th>stage1_generated2</th>\n",
       "      <th>stage1_generated3</th>\n",
       "      <th>stage2_generated1</th>\n",
       "      <th>stage2_generated2</th>\n",
       "      <th>stage2_generated3</th>\n",
       "      <th>rest_words</th>\n",
       "    </tr>\n",
       "  </thead>\n",
       "  <tbody>\n",
       "    <tr>\n",
       "      <th>0</th>\n",
       "      <td>blacksmith's workshop.His company expanded int...</td>\n",
       "      <td>house the mill and the largest building, and a...</td>\n",
       "      <td>facilities such as the railway tracks for the ...</td>\n",
       "      <td>residence at Queen's College London, he design...</td>\n",
       "      <td>house and interiors. On its south side, the co...</td>\n",
       "      <td>buildings the company's offices and offices fo...</td>\n",
       "      <td>buildings, the workshop building became the ce...</td>\n",
       "      <td>house manufactured equipment they scarified of...</td>\n",
       "    </tr>\n",
       "    <tr>\n",
       "      <th>1</th>\n",
       "      <td>blacksmith's workshop.His company expanded int...</td>\n",
       "      <td>The company became significant in its early ca...</td>\n",
       "      <td>In the mid-1930s, the work continued to be per...</td>\n",
       "      <td>They had been in a position with a number of p...</td>\n",
       "      <td>They was disbanded in 1943.D'Armee de los Métu...</td>\n",
       "      <td>A post-war.In 1939, the company was reorganize...</td>\n",
       "      <td>The company had to take back the townspeaker a...</td>\n",
       "      <td>When they had electricity installed their fi...</td>\n",
       "    </tr>\n",
       "    <tr>\n",
       "      <th>2</th>\n",
       "      <td>blacksmith's workshop.His company expanded int...</td>\n",
       "      <td>power. They had a large fire on the road side....</td>\n",
       "      <td>power to be used on the city's water station a...</td>\n",
       "      <td>to put on its airfield, so in order to avoid i...</td>\n",
       "      <td>to plant the plant. The work in need of the wo...</td>\n",
       "      <td>power on the town. This did because a local ra...</td>\n",
       "      <td>equipment for the town.In 1940 the work starte...</td>\n",
       "      <td>-frequency interference to disrupt radio recep...</td>\n",
       "    </tr>\n",
       "    <tr>\n",
       "      <th>3</th>\n",
       "      <td>high school, back when I was part of a blues r...</td>\n",
       "      <td>different songs, my first two, I have all alwa...</td>\n",
       "      <td>years, but that was no idea which makes me any...</td>\n",
       "      <td>rd-level music. This was an opportunity me and...</td>\n",
       "      <td>people at the same time and decided to concent...</td>\n",
       "      <td>,000 people. I'm just been able to do so and I...</td>\n",
       "      <td>,000 songs from my schools and I think it's ab...</td>\n",
       "      <td>chord riffs , and started to write songs wit...</td>\n",
       "    </tr>\n",
       "    <tr>\n",
       "      <th>4</th>\n",
       "      <td>high school, back when I was part of a blues r...</td>\n",
       "      <td>of a lot of a bit of humor, and a lot of the b...</td>\n",
       "      <td>of the songs, with some of them, on aiddle gui...</td>\n",
       "      <td>of have more money, more money, more time, the...</td>\n",
       "      <td>of got to the end: “We’dze,” said L'Allier; “Y...</td>\n",
       "      <td>of do this, and it's like we don't like it. We...</td>\n",
       "      <td>of're all of us, and I’m sure what, we’s still...</td>\n",
       "      <td>of combined sounds and influences , to creat...</td>\n",
       "    </tr>\n",
       "  </tbody>\n",
       "</table>\n",
       "</div>"
      ],
      "text/plain": [
       "                                             context  \\\n",
       "0  blacksmith's workshop.His company expanded int...   \n",
       "1  blacksmith's workshop.His company expanded int...   \n",
       "2  blacksmith's workshop.His company expanded int...   \n",
       "3  high school, back when I was part of a blues r...   \n",
       "4  high school, back when I was part of a blues r...   \n",
       "\n",
       "                                   stage1_generated1  \\\n",
       "0  house the mill and the largest building, and a...   \n",
       "1  The company became significant in its early ca...   \n",
       "2  power. They had a large fire on the road side....   \n",
       "3  different songs, my first two, I have all alwa...   \n",
       "4  of a lot of a bit of humor, and a lot of the b...   \n",
       "\n",
       "                                   stage1_generated2  \\\n",
       "0  facilities such as the railway tracks for the ...   \n",
       "1  In the mid-1930s, the work continued to be per...   \n",
       "2  power to be used on the city's water station a...   \n",
       "3  years, but that was no idea which makes me any...   \n",
       "4  of the songs, with some of them, on aiddle gui...   \n",
       "\n",
       "                                   stage1_generated3  \\\n",
       "0  residence at Queen's College London, he design...   \n",
       "1  They had been in a position with a number of p...   \n",
       "2  to put on its airfield, so in order to avoid i...   \n",
       "3  rd-level music. This was an opportunity me and...   \n",
       "4  of have more money, more money, more time, the...   \n",
       "\n",
       "                                   stage2_generated1  \\\n",
       "0  house and interiors. On its south side, the co...   \n",
       "1  They was disbanded in 1943.D'Armee de los Métu...   \n",
       "2  to plant the plant. The work in need of the wo...   \n",
       "3  people at the same time and decided to concent...   \n",
       "4  of got to the end: “We’dze,” said L'Allier; “Y...   \n",
       "\n",
       "                                   stage2_generated2  \\\n",
       "0  buildings the company's offices and offices fo...   \n",
       "1  A post-war.In 1939, the company was reorganize...   \n",
       "2  power on the town. This did because a local ra...   \n",
       "3  ,000 people. I'm just been able to do so and I...   \n",
       "4  of do this, and it's like we don't like it. We...   \n",
       "\n",
       "                                   stage2_generated3  \\\n",
       "0  buildings, the workshop building became the ce...   \n",
       "1  The company had to take back the townspeaker a...   \n",
       "2  equipment for the town.In 1940 the work starte...   \n",
       "3  ,000 songs from my schools and I think it's ab...   \n",
       "4  of're all of us, and I’m sure what, we’s still...   \n",
       "\n",
       "                                          rest_words  \n",
       "0  house manufactured equipment they scarified of...  \n",
       "1    When they had electricity installed their fi...  \n",
       "2  -frequency interference to disrupt radio recep...  \n",
       "3    chord riffs , and started to write songs wit...  \n",
       "4    of combined sounds and influences , to creat...  "
      ]
     },
     "execution_count": 3,
     "metadata": {},
     "output_type": "execute_result"
    }
   ],
   "source": [
    "generated_df.head()"
   ]
  },
  {
   "cell_type": "code",
   "execution_count": 4,
   "id": "sixth-wichita",
   "metadata": {},
   "outputs": [],
   "source": [
    "import spacy\n",
    "from spacy.lang.en import English\n",
    "from result_statistics import result_statistics"
   ]
  },
  {
   "cell_type": "code",
   "execution_count": 5,
   "id": "bearing-vegetation",
   "metadata": {},
   "outputs": [],
   "source": [
    "from spacy.lang.en import English\n",
    "# nlp = English()\n",
    "nlp = spacy.load(\"en_core_web_sm\")\n",
    "\n",
    "if_include_upper = lambda s: any(x.isupper() for x in s)\n",
    "\n",
    "global count_ADJ_word, count_ADP_word, count_CCONJ_word, count_DET_word, count_NOUN_word, count_PART_word\n",
    "global count_PRON_word, count_PRON_word, count_PROPN_word, count_PUNCT_word, count_VERB_word, count_AUX_word\n",
    "global count_ADV_word, count_SCONJ_word, count_NUM_word, count_SPACE_word, count_INTJ_word, count_X_word, count_SYM_word\n",
    "count_ADJ_word = 0\n",
    "count_ADP_word = 0\n",
    "count_CCONJ_word = 0\n",
    "count_DET_word = 0\n",
    "count_NOUN_word = 0\n",
    "count_PART_word = 0\n",
    "count_PRON_word = 0\n",
    "count_PROPN_word = 0\n",
    "count_PUNCT_word = 0\n",
    "count_VERB_word = 0\n",
    "count_AUX_word = 0\n",
    "count_ADV_word = 0\n",
    "count_SCONJ_word = 0\n",
    "count_NUM_word = 0\n",
    "count_SPACE_word = 0\n",
    "count_INTJ_word = 0\n",
    "count_X_word = 0\n",
    "count_SYM_word = 0\n",
    "\n",
    "def get_generated_sent_word_list(x):\n",
    "    global count_ADJ_word, count_ADP_word, count_CCONJ_word, count_DET_word, count_NOUN_word, count_PART_word\n",
    "    global count_PRON_word, count_PRON_word, count_PROPN_word, count_PUNCT_word, count_VERB_word, count_AUX_word\n",
    "    global count_ADV_word, count_SCONJ_word, count_NUM_word, count_SPACE_word, count_INTJ_word, count_X_word, count_SYM_word\n",
    "    tokens = nlp(x)\n",
    "    \n",
    "    generated_sent_word_list = []\n",
    "    generated_sent_word_POS_list = []\n",
    "    generated_sent_uppercase_word_list = []\n",
    "    generated_sent_lowercase_word_list = []\n",
    "    generated_sent_not_stop_word_list = []\n",
    "    \n",
    "    ADJ_word_list = []\n",
    "    ADP_word_list = []\n",
    "    CCONJ_word_list = []\n",
    "    DET_word_list = []\n",
    "    NOUN_word_list = []\n",
    "    PART_word_list = []\n",
    "    PRON_word_list = []\n",
    "    PROPN_word_list = []\n",
    "    PUNCT_word_list = []\n",
    "    VERB_word_list = []\n",
    "    AUX_word_list = []\n",
    "    ADV_word_list = []\n",
    "    SCONJ_word_list = []\n",
    "    NUM_word_list = []\n",
    "    SPACE_word_list = []\n",
    "    INTJ_word_list = []\n",
    "    X_word_list = []\n",
    "    SYM_word_list = []\n",
    "    \n",
    "    for tok in tokens:\n",
    "        generated_sent_word_list.append(tok.text)\n",
    "        generated_sent_word_POS_list.append(tok.pos_)   \n",
    "            \n",
    "        if not tok.is_stop:\n",
    "            generated_sent_not_stop_word_list.append(tok.text)\n",
    "            \n",
    "            if if_include_upper(tok.text):\n",
    "                generated_sent_uppercase_word_list.append(tok.text)\n",
    "            else:\n",
    "                generated_sent_lowercase_word_list.append(tok.text)\n",
    "                \n",
    "        if tok.pos_ == \"ADJ\":\n",
    "            ADJ_word_list.append(tok.text)\n",
    "            count_ADJ_word += 1\n",
    "        elif tok.pos_ == \"ADP\":\n",
    "            ADP_word_list.append(tok.text)\n",
    "            count_ADP_word += 1\n",
    "        elif tok.pos_ == \"CCONJ\":\n",
    "            CCONJ_word_list.append(tok.text)\n",
    "            count_CCONJ_word += 1\n",
    "        elif tok.pos_ == \"DET\":\n",
    "            DET_word_list.append(tok.text)\n",
    "            count_DET_word += 1\n",
    "        elif tok.pos_ == \"NOUN\":\n",
    "            NOUN_word_list.append(tok.text)\n",
    "            count_NOUN_word += 1\n",
    "        elif tok.pos_ == \"PART\":\n",
    "            PART_word_list.append(tok.text)\n",
    "            count_PART_word += 1\n",
    "        elif tok.pos_ == \"PRON\":\n",
    "            PRON_word_list.append(tok.text)\n",
    "            count_PRON_word += 1\n",
    "        elif tok.pos_ == \"PROPN\":\n",
    "            PROPN_word_list.append(tok.text)\n",
    "            count_PROPN_word += 1\n",
    "        elif tok.pos_ == \"PUNCT\":\n",
    "            PUNCT_word_list.append(tok.text)\n",
    "            count_PUNCT_word += 1\n",
    "        elif tok.pos_ == \"VERB\":\n",
    "            VERB_word_list.append(tok.text)\n",
    "            count_VERB_word += 1\n",
    "        elif tok.pos_ == \"AUX\":\n",
    "            AUX_word_list.append(tok.text)\n",
    "            count_AUX_word += 1\n",
    "        elif tok.pos_ == \"ADV\":\n",
    "            ADV_word_list.append(tok.text)\n",
    "            count_ADV_word += 1\n",
    "        elif tok.pos_ == \"SCONJ\":\n",
    "            SCONJ_word_list.append(tok.text)\n",
    "            count_SCONJ_word += 1\n",
    "        elif tok.pos_ == \"NUM\":\n",
    "            NUM_word_list.append(tok.text)\n",
    "            count_NUM_word += 1\n",
    "        elif tok.pos_ == \"SPACE\":\n",
    "            SPACE_word_list.append(tok.text)\n",
    "            count_SPACE_word += 1\n",
    "        elif tok.pos_ == \"INTJ\":\n",
    "            INTJ_word_list.append(tok.text)\n",
    "            count_INTJ_word += 1\n",
    "        elif tok.pos_ == \"X\":\n",
    "            X_word_list.append(tok.text)\n",
    "            count_X_word += 1\n",
    "        elif tok.pos_ == \"SYM\":\n",
    "            SYM_word_list.append(tok.text)\n",
    "            count_SYM_word += 1\n",
    "        else:\n",
    "            print(tok.pos_)\n",
    "            \n",
    "    return pd.Series([generated_sent_word_list, generated_sent_word_POS_list, \n",
    "                      generated_sent_uppercase_word_list, generated_sent_lowercase_word_list, generated_sent_not_stop_word_list,\n",
    "                      ADJ_word_list, ADP_word_list, CCONJ_word_list, DET_word_list, NOUN_word_list, PART_word_list,\n",
    "                      PRON_word_list, PROPN_word_list, PUNCT_word_list, VERB_word_list, AUX_word_list, ADV_word_list,\n",
    "                      SCONJ_word_list, NUM_word_list, SPACE_word_list, INTJ_word_list, X_word_list, SYM_word_list])\n",
    "\n",
    "generated_df[['stage1_generated1_word_list', 'stage1_generated1_POS_list', \n",
    "             'stage1_generated1_uppercase_word_list', 'stage1_generated1_lowercase_word_list', 'stage1_generated1_not_stop_word_list', \n",
    "             's1g1_ADJ_word_list', 's1g1_ADP_word_list', 's1g1_CCONJ_word_list', 's1g1_DET_word_list', 's1g1_NOUN_word_list', 's1g1_PART_word_list',\n",
    "             's1g1_PRON_word_list', 's1g1_PROPN_word_list', 's1g1_PUNCT_word_list', 's1g1_VERB_word_list', 's1g1_AUX_word_list', 's1g1_ADV_word_list',\n",
    "             's1g1_SCONJ_word_list', 's1g1_NUM_word_list', 's1g1_SPACE_word_list', 's1g1_INTJ_word_list', 's1g1_X_word_list', \n",
    "             's1g1_SYM_word_list']] = generated_df['stage1_generated1'].apply(get_generated_sent_word_list)\n",
    "\n",
    "generated_df[['stage1_generated2_word_list', 'stage1_generated2_POS_list', \n",
    "             'stage1_generated2_uppercase_word_list', 'stage1_generated2_lowercase_word_list', 'stage1_generated2_not_stop_word_list',\n",
    "             's1g2_ADJ_word_list', 's1g2_ADP_word_list', 's1g2_CCONJ_word_list', 's1g2_DET_word_list', 's1g2_NOUN_word_list', 's1g2_PART_word_list',\n",
    "             's1g2_PRON_word_list', 's1g2_PROPN_word_list', 's1g2_PUNCT_word_list', 's1g2_VERB_word_list', 's1g2_AUX_word_list', 's1g2_ADV_word_list',\n",
    "             's1g2_SCONJ_word_list', 's1g2_NUM_word_list', 's1g2_SPACE_word_list', 's1g2_INTJ_word_list', 's1g2_X_word_list', \n",
    "             's1g2_SYM_word_list']] = generated_df['stage1_generated2'].apply(get_generated_sent_word_list)\n",
    "\n",
    "generated_df[['stage1_generated3_word_list', 'stage1_generated3_POS_list', \n",
    "             'stage1_generated3_uppercase_word_list', 'stage1_generated3_lowercase_word_list', 'stage1_generated3_not_stop_word_list',\n",
    "             's1g3_ADJ_word_list', 's1g3_ADP_word_list', 's1g3_CCONJ_word_list', 's1g3_DET_word_list', 's1g3_NOUN_word_list', 's1g3_PART_word_list',\n",
    "             's1g3_PRON_word_list', 's1g3_PROPN_word_list', 's1g3_PUNCT_word_list', 's1g3_VERB_word_list', 's1g3_AUX_word_list', 's1g3_ADV_word_list',\n",
    "             's1g3_SCONJ_word_list', 's1g3_NUM_word_list', 's1g3_SPACE_word_list', 's1g3_INTJ_word_list', 's1g3_X_word_list', \n",
    "             's1g3_SYM_word_list']] = generated_df['stage1_generated3'].apply(get_generated_sent_word_list)\n",
    "\n",
    "generated_df[['stage2_generated1_word_list', 'stage2_generated1_POS_list', \n",
    "             'stage2_generated1_uppercase_word_list', 'stage2_generated1_lowercase_word_list', 'stage2_generated1_not_stop_word_list',\n",
    "             's2g1_ADJ_word_list', 's2g1_ADP_word_list', 's2g1_CCONJ_word_list', 's2g1_DET_word_list', 's2g1_NOUN_word_list', 's2g1_PART_word_list',\n",
    "             's2g1_PRON_word_list', 's2g1_PROPN_word_list', 's2g1_PUNCT_word_list', 's2g1_VERB_word_list', 's2g1_AUX_word_list', 's2g1_ADV_word_list',\n",
    "             's2g1_SCONJ_word_list', 's2g1_NUM_word_list', 's2g1_SPACE_word_list', 's2g1_INTJ_word_list', 's2g1_X_word_list', \n",
    "             's2g1_SYM_word_list']] = generated_df['stage2_generated1'].apply(get_generated_sent_word_list)\n",
    "\n",
    "generated_df[['stage2_generated2_word_list', 'stage2_generated2_POS_list', \n",
    "             'stage2_generated2_uppercase_word_list', 'stage2_generated2_lowercase_word_list', 'stage2_generated2_not_stop_word_list',\n",
    "             's2g2_ADJ_word_list', 's2g2_ADP_word_list', 's2g2_CCONJ_word_list', 's2g2_DET_word_list', 's2g2_NOUN_word_list', 's2g2_PART_word_list',\n",
    "             's2g2_PRON_word_list', 's2g2_PROPN_word_list', 's2g2_PUNCT_word_list', 's2g2_VERB_word_list', 's2g2_AUX_word_list', 's2g2_ADV_word_list',\n",
    "             's2g2_SCONJ_word_list', 's2g2_NUM_word_list', 's2g2_SPACE_word_list', 's2g2_INTJ_word_list', 's2g2_X_word_list', \n",
    "             's2g2_SYM_word_list']] = generated_df['stage2_generated2'].apply(get_generated_sent_word_list)\n",
    "\n",
    "generated_df[['stage2_generated3_word_list', 'stage2_generated3_POS_list', \n",
    "             'stage2_generated3_uppercase_word_list', 'stage2_generated3_lowercase_word_list', 'stage2_generated3_not_stop_word_list',\n",
    "             's2g3_ADJ_word_list', 's2g3_ADP_word_list', 's2g3_CCONJ_word_list', 's2g3_DET_word_list', 's2g3_NOUN_word_list', 's2g3_PART_word_list',\n",
    "             's2g3_PRON_word_list', 's2g3_PROPN_word_list', 's2g3_PUNCT_word_list', 's2g3_VERB_word_list', 's2g3_AUX_word_list', 's2g3_ADV_word_list',\n",
    "             's2g3_SCONJ_word_list', 's2g3_NUM_word_list', 's2g3_SPACE_word_list', 's2g3_INTJ_word_list', 's2g3_X_word_list', \n",
    "             's2g3_SYM_word_list']] = generated_df['stage2_generated3'].apply(get_generated_sent_word_list)\n",
    "\n",
    "generated_df[['context_word_list', 'context_POS_list', \n",
    "             'context_uppercase_word_list', 'context_lowercase_word_list', 'context_not_stop_word_list', \n",
    "             'context_ADJ_word_list', 'context_ADP_word_list', 'context_CCONJ_word_list', 'context_DET_word_list', 'context_NOUN_word_list', 'context_PART_word_list',\n",
    "             'context_PRON_word_list', 'context_PROPN_word_list', 'context_PUNCT_word_list', 'context_VERB_word_list', 'context_AUX_word_list', 'context_ADV_word_list',\n",
    "             'context_SCONJ_word_list', 'context_NUM_word_list', 'context_SPACE_word_list', 'context_INTJ_word_list', 'context_X_word_list', \n",
    "             'context_SYM_word_list']] = generated_df['context'].apply(get_generated_sent_word_list)\n",
    "\n",
    "generated_df[['rest_words_word_list', 'rest_words_POS_list', \n",
    "             'rest_words_uppercase_word_list', 'rest_words_lowercase_word_list', 'rest_words_not_stop_word_list',\n",
    "             'rest_words_ADJ_word_list', 'rest_words_ADP_word_list', 'rest_words_CCONJ_word_list', 'rest_words_DET_word_list', 'rest_words_NOUN_word_list', 'rest_words_PART_word_list',\n",
    "             'rest_words_PRON_word_list', 'rest_words_PROPN_word_list', 'rest_words_PUNCT_word_list', 'rest_words_VERB_word_list', 'rest_words_AUX_word_list', 'rest_words_ADV_word_list',\n",
    "             'rest_words_SCONJ_word_list', 'rest_words_NUM_word_list', 'rest_words_SPACE_word_list', 'rest_words_INTJ_word_list', 'rest_words_X_word_list', \n",
    "             'rest_words_SYM_word_list']] = generated_df['rest_words'].apply(get_generated_sent_word_list)"
   ]
  },
  {
   "cell_type": "code",
   "execution_count": 6,
   "id": "falling-saskatchewan",
   "metadata": {},
   "outputs": [
    {
     "name": "stdout",
     "output_type": "stream",
     "text": [
      "54201 123226 28829 114307 166403 15771 32637 131565 136537 78043 39308 19866 5258 32304 3079 565 1082 1080\n"
     ]
    }
   ],
   "source": [
    "print(  count_ADJ_word, \n",
    "        count_ADP_word, \n",
    "        count_CCONJ_word, \n",
    "        count_DET_word,\n",
    "        count_NOUN_word,\n",
    "        count_PART_word,\n",
    "        count_PRON_word,\n",
    "        count_PROPN_word,\n",
    "        count_PUNCT_word,\n",
    "        count_VERB_word,\n",
    "        count_AUX_word,\n",
    "        count_ADV_word,\n",
    "        count_SCONJ_word,\n",
    "        count_NUM_word,\n",
    "        count_SPACE_word,\n",
    "        count_INTJ_word,\n",
    "        count_X_word,\n",
    "        count_SYM_word)"
   ]
  },
  {
   "cell_type": "code",
   "execution_count": 7,
   "id": "bright-links",
   "metadata": {},
   "outputs": [
    {
     "data": {
      "text/plain": [
       "context                       blacksmith's workshop.His company expanded int...\n",
       "stage1_generated1             house the mill and the largest building, and a...\n",
       "stage1_generated2             facilities such as the railway tracks for the ...\n",
       "stage1_generated3             residence at Queen's College London, he design...\n",
       "stage2_generated1             house and interiors. On its south side, the co...\n",
       "                                                    ...                        \n",
       "rest_words_NUM_word_list                                            [one, 1946]\n",
       "rest_words_SPACE_word_list                                                   []\n",
       "rest_words_INTJ_word_list                                                    []\n",
       "rest_words_X_word_list                                                       []\n",
       "rest_words_SYM_word_list                                                     []\n",
       "Name: 0, Length: 192, dtype: object"
      ]
     },
     "execution_count": 7,
     "metadata": {},
     "output_type": "execute_result"
    }
   ],
   "source": [
    "generated_df.iloc[0]"
   ]
  },
  {
   "cell_type": "code",
   "execution_count": 31,
   "id": "diagnostic-reserve",
   "metadata": {},
   "outputs": [],
   "source": [
    "# generated_df.to_pickle(\"stage1_and_stage2_generation.pkl\")"
   ]
  },
  {
   "cell_type": "code",
   "execution_count": 9,
   "id": "fourth-chemistry",
   "metadata": {},
   "outputs": [],
   "source": [
    "import rougescore as rs\n",
    "import numpy as np"
   ]
  },
  {
   "cell_type": "code",
   "execution_count": 10,
   "id": "olive-receptor",
   "metadata": {},
   "outputs": [],
   "source": [
    "def cal_rouge_1_score(peer, models):\n",
    "    scores = []\n",
    "\n",
    "    for i in range(generated_df.shape[0]):\n",
    "        scores.append(rs.rouge_1(generated_df.iloc[i][peer], [generated_df.iloc[i][models]], 0.5))\n",
    "    \n",
    "    print(\"rouge_1 of\", peer, \"and\", models, \"is\", np.array(scores).mean())"
   ]
  },
  {
   "cell_type": "code",
   "execution_count": 14,
   "id": "artificial-guard",
   "metadata": {},
   "outputs": [
    {
     "name": "stdout",
     "output_type": "stream",
     "text": [
      "rouge_1 of stage1_generated1_word_list and context_word_list is 0.23397811187181958\n",
      "rouge_1 of stage1_generated2_word_list and context_word_list is 0.23444667621588794\n",
      "rouge_1 of stage1_generated3_word_list and context_word_list is 0.23546338498234787\n",
      "rouge_1 of stage2_generated1_word_list and context_word_list is 0.2563158932065454\n",
      "rouge_1 of stage2_generated2_word_list and context_word_list is 0.2575318042742567\n",
      "rouge_1 of stage2_generated3_word_list and context_word_list is 0.25662438684075556\n"
     ]
    }
   ],
   "source": [
    "cal_rouge_1_score('stage1_generated1_word_list', \"context_word_list\")\n",
    "cal_rouge_1_score('stage1_generated2_word_list', \"context_word_list\")\n",
    "cal_rouge_1_score('stage1_generated3_word_list', \"context_word_list\")\n",
    "cal_rouge_1_score('stage2_generated1_word_list', \"context_word_list\")\n",
    "cal_rouge_1_score('stage2_generated2_word_list', \"context_word_list\")\n",
    "cal_rouge_1_score('stage2_generated3_word_list', \"context_word_list\")"
   ]
  },
  {
   "cell_type": "code",
   "execution_count": 15,
   "id": "severe-internship",
   "metadata": {},
   "outputs": [
    {
     "name": "stdout",
     "output_type": "stream",
     "text": [
      "rouge_1 of stage1_generated1_word_list and rest_words_word_list is 0.20146695425358707\n",
      "rouge_1 of stage1_generated2_word_list and rest_words_word_list is 0.2022424013225312\n",
      "rouge_1 of stage1_generated3_word_list and rest_words_word_list is 0.20334458267996305\n",
      "rouge_1 of stage2_generated1_word_list and rest_words_word_list is 0.2049113280795054\n",
      "rouge_1 of stage2_generated2_word_list and rest_words_word_list is 0.20512892818113515\n",
      "rouge_1 of stage2_generated3_word_list and rest_words_word_list is 0.2068086833418783\n"
     ]
    }
   ],
   "source": [
    "cal_rouge_1_score('stage1_generated1_word_list', \"rest_words_word_list\")\n",
    "cal_rouge_1_score('stage1_generated2_word_list', \"rest_words_word_list\")\n",
    "cal_rouge_1_score('stage1_generated3_word_list', \"rest_words_word_list\")\n",
    "cal_rouge_1_score('stage2_generated1_word_list', \"rest_words_word_list\")\n",
    "cal_rouge_1_score('stage2_generated2_word_list', \"rest_words_word_list\")\n",
    "cal_rouge_1_score('stage2_generated3_word_list', \"rest_words_word_list\")"
   ]
  },
  {
   "cell_type": "code",
   "execution_count": 19,
   "id": "earned-spray",
   "metadata": {},
   "outputs": [
    {
     "name": "stdout",
     "output_type": "stream",
     "text": [
      "rouge_1 of stage1_generated1_not_stop_word_list and context_not_stop_word_list is 0.18163340293773036\n",
      "rouge_1 of stage1_generated2_not_stop_word_list and context_not_stop_word_list is 0.18233818778622407\n",
      "rouge_1 of stage1_generated3_not_stop_word_list and context_not_stop_word_list is 0.1826988234921825\n",
      "rouge_1 of stage2_generated1_not_stop_word_list and context_not_stop_word_list is 0.21125507558717632\n",
      "rouge_1 of stage2_generated2_not_stop_word_list and context_not_stop_word_list is 0.21347533485914247\n",
      "rouge_1 of stage2_generated3_not_stop_word_list and context_not_stop_word_list is 0.21214040627084366\n"
     ]
    }
   ],
   "source": [
    "cal_rouge_1_score('stage1_generated1_not_stop_word_list', \"context_not_stop_word_list\")\n",
    "cal_rouge_1_score('stage1_generated2_not_stop_word_list', \"context_not_stop_word_list\")\n",
    "cal_rouge_1_score('stage1_generated3_not_stop_word_list', \"context_not_stop_word_list\")\n",
    "cal_rouge_1_score('stage2_generated1_not_stop_word_list', \"context_not_stop_word_list\")\n",
    "cal_rouge_1_score('stage2_generated2_not_stop_word_list', \"context_not_stop_word_list\")\n",
    "cal_rouge_1_score('stage2_generated3_not_stop_word_list', \"context_not_stop_word_list\")"
   ]
  },
  {
   "cell_type": "code",
   "execution_count": 18,
   "id": "skilled-netherlands",
   "metadata": {},
   "outputs": [
    {
     "name": "stdout",
     "output_type": "stream",
     "text": [
      "rouge_1 of stage1_generated1_not_stop_word_list and rest_words_not_stop_word_list is 0.13385253062484823\n",
      "rouge_1 of stage1_generated2_not_stop_word_list and rest_words_not_stop_word_list is 0.13333107889553814\n",
      "rouge_1 of stage1_generated3_not_stop_word_list and rest_words_not_stop_word_list is 0.13419060245250838\n",
      "rouge_1 of stage2_generated1_not_stop_word_list and rest_words_not_stop_word_list is 0.13795663171442243\n",
      "rouge_1 of stage2_generated2_not_stop_word_list and rest_words_not_stop_word_list is 0.1385148572066251\n",
      "rouge_1 of stage2_generated3_not_stop_word_list and rest_words_not_stop_word_list is 0.140712109142358\n"
     ]
    }
   ],
   "source": [
    "cal_rouge_1_score('stage1_generated1_not_stop_word_list', \"rest_words_not_stop_word_list\")\n",
    "cal_rouge_1_score('stage1_generated2_not_stop_word_list', \"rest_words_not_stop_word_list\")\n",
    "cal_rouge_1_score('stage1_generated3_not_stop_word_list', \"rest_words_not_stop_word_list\")\n",
    "cal_rouge_1_score('stage2_generated1_not_stop_word_list', \"rest_words_not_stop_word_list\")\n",
    "cal_rouge_1_score('stage2_generated2_not_stop_word_list', \"rest_words_not_stop_word_list\")\n",
    "cal_rouge_1_score('stage2_generated3_not_stop_word_list', \"rest_words_not_stop_word_list\")"
   ]
  },
  {
   "cell_type": "code",
   "execution_count": 21,
   "id": "progressive-mattress",
   "metadata": {},
   "outputs": [
    {
     "name": "stdout",
     "output_type": "stream",
     "text": [
      "rouge_1 of stage1_generated2_not_stop_word_list and stage1_generated1_not_stop_word_list is 0.20128700670880284\n",
      "rouge_1 of stage1_generated3_not_stop_word_list and stage1_generated1_not_stop_word_list is 0.20024600007370094\n",
      "rouge_1 of stage1_generated1_not_stop_word_list and stage1_generated2_not_stop_word_list is 0.20128700670880284\n",
      "rouge_1 of stage1_generated3_not_stop_word_list and stage1_generated2_not_stop_word_list is 0.19963092840169863\n",
      "rouge_1 of stage1_generated1_not_stop_word_list and stage1_generated3_not_stop_word_list is 0.20024600007370094\n",
      "rouge_1 of stage1_generated2_not_stop_word_list and stage1_generated3_not_stop_word_list is 0.19963092840169863\n",
      "rouge_1 of stage2_generated2_not_stop_word_list and stage2_generated1_not_stop_word_list is 0.21836208934564133\n",
      "rouge_1 of stage2_generated3_not_stop_word_list and stage2_generated1_not_stop_word_list is 0.21704865449162\n",
      "rouge_1 of stage2_generated1_not_stop_word_list and stage2_generated2_not_stop_word_list is 0.21836208934564133\n",
      "rouge_1 of stage2_generated3_not_stop_word_list and stage2_generated2_not_stop_word_list is 0.21557827476804833\n",
      "rouge_1 of stage2_generated1_not_stop_word_list and stage2_generated3_not_stop_word_list is 0.21704865449162\n",
      "rouge_1 of stage2_generated2_not_stop_word_list and stage2_generated3_not_stop_word_list is 0.21557827476804833\n"
     ]
    }
   ],
   "source": [
    "cal_rouge_1_score('stage1_generated2_not_stop_word_list', \"stage1_generated1_not_stop_word_list\")\n",
    "cal_rouge_1_score('stage1_generated3_not_stop_word_list', \"stage1_generated1_not_stop_word_list\")\n",
    "cal_rouge_1_score('stage1_generated1_not_stop_word_list', \"stage1_generated2_not_stop_word_list\")\n",
    "cal_rouge_1_score('stage1_generated3_not_stop_word_list', \"stage1_generated2_not_stop_word_list\")\n",
    "cal_rouge_1_score('stage1_generated1_not_stop_word_list', \"stage1_generated3_not_stop_word_list\")\n",
    "cal_rouge_1_score('stage1_generated2_not_stop_word_list', \"stage1_generated3_not_stop_word_list\")\n",
    "\n",
    "cal_rouge_1_score('stage2_generated2_not_stop_word_list', \"stage2_generated1_not_stop_word_list\")\n",
    "cal_rouge_1_score('stage2_generated3_not_stop_word_list', \"stage2_generated1_not_stop_word_list\")\n",
    "cal_rouge_1_score('stage2_generated1_not_stop_word_list', \"stage2_generated2_not_stop_word_list\")\n",
    "cal_rouge_1_score('stage2_generated3_not_stop_word_list', \"stage2_generated2_not_stop_word_list\")\n",
    "cal_rouge_1_score('stage2_generated1_not_stop_word_list', \"stage2_generated3_not_stop_word_list\")\n",
    "cal_rouge_1_score('stage2_generated2_not_stop_word_list', \"stage2_generated3_not_stop_word_list\")"
   ]
  },
  {
   "cell_type": "code",
   "execution_count": 22,
   "id": "indirect-habitat",
   "metadata": {},
   "outputs": [
    {
     "name": "stdout",
     "output_type": "stream",
     "text": [
      "rouge_1 of stage1_generated2_word_list and stage1_generated1_word_list is 0.26634933847718406\n",
      "rouge_1 of stage1_generated3_word_list and stage1_generated1_word_list is 0.26562501067282257\n",
      "rouge_1 of stage1_generated1_word_list and stage1_generated2_word_list is 0.26634933847718406\n",
      "rouge_1 of stage1_generated3_word_list and stage1_generated2_word_list is 0.2664532254884114\n",
      "rouge_1 of stage1_generated1_word_list and stage1_generated3_word_list is 0.26562501067282257\n",
      "rouge_1 of stage1_generated2_word_list and stage1_generated3_word_list is 0.2664532254884114\n",
      "rouge_1 of stage2_generated2_word_list and stage2_generated1_word_list is 0.2769962513582092\n",
      "rouge_1 of stage2_generated3_word_list and stage2_generated1_word_list is 0.2754314952750429\n",
      "rouge_1 of stage2_generated1_word_list and stage2_generated2_word_list is 0.2769962513582092\n",
      "rouge_1 of stage2_generated3_word_list and stage2_generated2_word_list is 0.27630496753649675\n",
      "rouge_1 of stage2_generated1_word_list and stage2_generated3_word_list is 0.2754314952750429\n",
      "rouge_1 of stage2_generated2_word_list and stage2_generated3_word_list is 0.27630496753649675\n"
     ]
    }
   ],
   "source": [
    "cal_rouge_1_score('stage1_generated2_word_list', \"stage1_generated1_word_list\")\n",
    "cal_rouge_1_score('stage1_generated3_word_list', \"stage1_generated1_word_list\")\n",
    "cal_rouge_1_score('stage1_generated1_word_list', \"stage1_generated2_word_list\")\n",
    "cal_rouge_1_score('stage1_generated3_word_list', \"stage1_generated2_word_list\")\n",
    "cal_rouge_1_score('stage1_generated1_word_list', \"stage1_generated3_word_list\")\n",
    "cal_rouge_1_score('stage1_generated2_word_list', \"stage1_generated3_word_list\")\n",
    "\n",
    "cal_rouge_1_score('stage2_generated2_word_list', \"stage2_generated1_word_list\")\n",
    "cal_rouge_1_score('stage2_generated3_word_list', \"stage2_generated1_word_list\")\n",
    "cal_rouge_1_score('stage2_generated1_word_list', \"stage2_generated2_word_list\")\n",
    "cal_rouge_1_score('stage2_generated3_word_list', \"stage2_generated2_word_list\")\n",
    "cal_rouge_1_score('stage2_generated1_word_list', \"stage2_generated3_word_list\")\n",
    "cal_rouge_1_score('stage2_generated2_word_list', \"stage2_generated3_word_list\")"
   ]
  },
  {
   "cell_type": "code",
   "execution_count": 15,
   "id": "verbal-consultancy",
   "metadata": {},
   "outputs": [
    {
     "name": "stdout",
     "output_type": "stream",
     "text": [
      "rouge_1 of stage1_generated2_lowercase_word_list and stage1_generated1_lowercase_word_list is 0.23252032572126174\n",
      "rouge_1 of stage1_generated3_lowercase_word_list and stage1_generated1_lowercase_word_list is 0.23253326441694072\n",
      "rouge_1 of stage1_generated1_lowercase_word_list and stage1_generated2_lowercase_word_list is 0.23252032572126174\n",
      "rouge_1 of stage1_generated3_lowercase_word_list and stage1_generated2_lowercase_word_list is 0.22928801416251543\n",
      "rouge_1 of stage1_generated1_lowercase_word_list and stage1_generated3_lowercase_word_list is 0.23253326441694072\n",
      "rouge_1 of stage1_generated2_lowercase_word_list and stage1_generated3_lowercase_word_list is 0.22928801416251543\n",
      "rouge_1 of stage2_generated2_lowercase_word_list and stage2_generated1_lowercase_word_list is 0.24520095690576277\n",
      "rouge_1 of stage2_generated3_lowercase_word_list and stage2_generated1_lowercase_word_list is 0.24275711425715796\n",
      "rouge_1 of stage2_generated1_lowercase_word_list and stage2_generated2_lowercase_word_list is 0.24520095690576277\n",
      "rouge_1 of stage2_generated3_lowercase_word_list and stage2_generated2_lowercase_word_list is 0.24265276095272548\n",
      "rouge_1 of stage2_generated1_lowercase_word_list and stage2_generated3_lowercase_word_list is 0.24275711425715796\n",
      "rouge_1 of stage2_generated2_lowercase_word_list and stage2_generated3_lowercase_word_list is 0.24265276095272548\n"
     ]
    }
   ],
   "source": [
    "cal_rouge_1_score('stage1_generated2_lowercase_word_list', \"stage1_generated1_lowercase_word_list\")\n",
    "cal_rouge_1_score('stage1_generated3_lowercase_word_list', \"stage1_generated1_lowercase_word_list\")\n",
    "cal_rouge_1_score('stage1_generated1_lowercase_word_list', \"stage1_generated2_lowercase_word_list\")\n",
    "cal_rouge_1_score('stage1_generated3_lowercase_word_list', \"stage1_generated2_lowercase_word_list\")\n",
    "cal_rouge_1_score('stage1_generated1_lowercase_word_list', \"stage1_generated3_lowercase_word_list\")\n",
    "cal_rouge_1_score('stage1_generated2_lowercase_word_list', \"stage1_generated3_lowercase_word_list\")\n",
    "\n",
    "cal_rouge_1_score('stage2_generated2_lowercase_word_list', \"stage2_generated1_lowercase_word_list\")\n",
    "cal_rouge_1_score('stage2_generated3_lowercase_word_list', \"stage2_generated1_lowercase_word_list\")\n",
    "cal_rouge_1_score('stage2_generated1_lowercase_word_list', \"stage2_generated2_lowercase_word_list\")\n",
    "cal_rouge_1_score('stage2_generated3_lowercase_word_list', \"stage2_generated2_lowercase_word_list\")\n",
    "cal_rouge_1_score('stage2_generated1_lowercase_word_list', \"stage2_generated3_lowercase_word_list\")\n",
    "cal_rouge_1_score('stage2_generated2_lowercase_word_list', \"stage2_generated3_lowercase_word_list\")"
   ]
  },
  {
   "cell_type": "code",
   "execution_count": 23,
   "id": "irish-science",
   "metadata": {},
   "outputs": [
    {
     "name": "stdout",
     "output_type": "stream",
     "text": [
      "rouge_1 of stage1_generated2_uppercase_word_list and stage1_generated1_uppercase_word_list is 0.08060129518120818\n",
      "rouge_1 of stage1_generated3_uppercase_word_list and stage1_generated1_uppercase_word_list is 0.07823184833865132\n",
      "rouge_1 of stage1_generated1_uppercase_word_list and stage1_generated2_uppercase_word_list is 0.08060129518120818\n",
      "rouge_1 of stage1_generated3_uppercase_word_list and stage1_generated2_uppercase_word_list is 0.08276707428546337\n",
      "rouge_1 of stage1_generated1_uppercase_word_list and stage1_generated3_uppercase_word_list is 0.07823184833865132\n",
      "rouge_1 of stage1_generated2_uppercase_word_list and stage1_generated3_uppercase_word_list is 0.08276707428546337\n",
      "rouge_1 of stage2_generated2_uppercase_word_list and stage2_generated1_uppercase_word_list is 0.11008381708462717\n",
      "rouge_1 of stage2_generated3_uppercase_word_list and stage2_generated1_uppercase_word_list is 0.11117130724778586\n",
      "rouge_1 of stage2_generated1_uppercase_word_list and stage2_generated2_uppercase_word_list is 0.11008381708462717\n",
      "rouge_1 of stage2_generated3_uppercase_word_list and stage2_generated2_uppercase_word_list is 0.10417440560883656\n",
      "rouge_1 of stage2_generated1_uppercase_word_list and stage2_generated3_uppercase_word_list is 0.11117130724778586\n",
      "rouge_1 of stage2_generated2_uppercase_word_list and stage2_generated3_uppercase_word_list is 0.10417440560883656\n"
     ]
    }
   ],
   "source": [
    "cal_rouge_1_score('stage1_generated2_uppercase_word_list', \"stage1_generated1_uppercase_word_list\")\n",
    "cal_rouge_1_score('stage1_generated3_uppercase_word_list', \"stage1_generated1_uppercase_word_list\")\n",
    "cal_rouge_1_score('stage1_generated1_uppercase_word_list', \"stage1_generated2_uppercase_word_list\")\n",
    "cal_rouge_1_score('stage1_generated3_uppercase_word_list', \"stage1_generated2_uppercase_word_list\")\n",
    "cal_rouge_1_score('stage1_generated1_uppercase_word_list', \"stage1_generated3_uppercase_word_list\")\n",
    "cal_rouge_1_score('stage1_generated2_uppercase_word_list', \"stage1_generated3_uppercase_word_list\")\n",
    "\n",
    "cal_rouge_1_score('stage2_generated2_uppercase_word_list', \"stage2_generated1_uppercase_word_list\")\n",
    "cal_rouge_1_score('stage2_generated3_uppercase_word_list', \"stage2_generated1_uppercase_word_list\")\n",
    "cal_rouge_1_score('stage2_generated1_uppercase_word_list', \"stage2_generated2_uppercase_word_list\")\n",
    "cal_rouge_1_score('stage2_generated3_uppercase_word_list', \"stage2_generated2_uppercase_word_list\")\n",
    "cal_rouge_1_score('stage2_generated1_uppercase_word_list', \"stage2_generated3_uppercase_word_list\")\n",
    "cal_rouge_1_score('stage2_generated2_uppercase_word_list', \"stage2_generated3_uppercase_word_list\")"
   ]
  },
  {
   "cell_type": "code",
   "execution_count": 11,
   "id": "reliable-microphone",
   "metadata": {},
   "outputs": [
    {
     "name": "stdout",
     "output_type": "stream",
     "text": [
      "rouge_1 of stage1_generated1_lowercase_word_list and context_lowercase_word_list is 0.20050990816641193\n",
      "rouge_1 of stage1_generated2_lowercase_word_list and context_lowercase_word_list is 0.1993911530563782\n",
      "rouge_1 of stage1_generated3_lowercase_word_list and context_lowercase_word_list is 0.19906836417077392\n",
      "rouge_1 of stage2_generated1_lowercase_word_list and context_lowercase_word_list is 0.21875619268785562\n",
      "rouge_1 of stage2_generated2_lowercase_word_list and context_lowercase_word_list is 0.22207384361471724\n",
      "rouge_1 of stage2_generated3_lowercase_word_list and context_lowercase_word_list is 0.22128547284258065\n"
     ]
    }
   ],
   "source": [
    "cal_rouge_1_score('stage1_generated1_lowercase_word_list', \"context_lowercase_word_list\")\n",
    "cal_rouge_1_score('stage1_generated2_lowercase_word_list', \"context_lowercase_word_list\")\n",
    "cal_rouge_1_score('stage1_generated3_lowercase_word_list', \"context_lowercase_word_list\")\n",
    "cal_rouge_1_score('stage2_generated1_lowercase_word_list', \"context_lowercase_word_list\")\n",
    "cal_rouge_1_score('stage2_generated2_lowercase_word_list', \"context_lowercase_word_list\")\n",
    "cal_rouge_1_score('stage2_generated3_lowercase_word_list', \"context_lowercase_word_list\")"
   ]
  },
  {
   "cell_type": "code",
   "execution_count": 16,
   "id": "working-enzyme",
   "metadata": {},
   "outputs": [
    {
     "name": "stdout",
     "output_type": "stream",
     "text": [
      "rouge_1 of stage1_generated1_uppercase_word_list and context_uppercase_word_list is 0.11619378912502543\n",
      "rouge_1 of stage1_generated2_uppercase_word_list and context_uppercase_word_list is 0.12343733512544569\n",
      "rouge_1 of stage1_generated3_uppercase_word_list and context_uppercase_word_list is 0.12342926773408387\n",
      "rouge_1 of stage2_generated1_uppercase_word_list and context_uppercase_word_list is 0.171049549613065\n",
      "rouge_1 of stage2_generated2_uppercase_word_list and context_uppercase_word_list is 0.16854033524562081\n",
      "rouge_1 of stage2_generated3_uppercase_word_list and context_uppercase_word_list is 0.16348588344027368\n"
     ]
    }
   ],
   "source": [
    "cal_rouge_1_score('stage1_generated1_uppercase_word_list', \"context_uppercase_word_list\")\n",
    "cal_rouge_1_score('stage1_generated2_uppercase_word_list', \"context_uppercase_word_list\")\n",
    "cal_rouge_1_score('stage1_generated3_uppercase_word_list', \"context_uppercase_word_list\")\n",
    "cal_rouge_1_score('stage2_generated1_uppercase_word_list', \"context_uppercase_word_list\")\n",
    "cal_rouge_1_score('stage2_generated2_uppercase_word_list', \"context_uppercase_word_list\")\n",
    "cal_rouge_1_score('stage2_generated3_uppercase_word_list', \"context_uppercase_word_list\")"
   ]
  },
  {
   "cell_type": "code",
   "execution_count": 13,
   "id": "western-pottery",
   "metadata": {},
   "outputs": [
    {
     "name": "stdout",
     "output_type": "stream",
     "text": [
      "rouge_1 of stage1_generated1_lowercase_word_list and rest_words_lowercase_word_list is 0.16603711925939296\n",
      "rouge_1 of stage1_generated2_lowercase_word_list and rest_words_lowercase_word_list is 0.1652919836203064\n",
      "rouge_1 of stage1_generated3_lowercase_word_list and rest_words_lowercase_word_list is 0.16642904485492188\n",
      "rouge_1 of stage2_generated1_lowercase_word_list and rest_words_lowercase_word_list is 0.167682381859371\n",
      "rouge_1 of stage2_generated2_lowercase_word_list and rest_words_lowercase_word_list is 0.16868522485526555\n",
      "rouge_1 of stage2_generated3_lowercase_word_list and rest_words_lowercase_word_list is 0.1709402244716425\n"
     ]
    }
   ],
   "source": [
    "cal_rouge_1_score('stage1_generated1_lowercase_word_list', \"rest_words_lowercase_word_list\")\n",
    "cal_rouge_1_score('stage1_generated2_lowercase_word_list', \"rest_words_lowercase_word_list\")\n",
    "cal_rouge_1_score('stage1_generated3_lowercase_word_list', \"rest_words_lowercase_word_list\")\n",
    "cal_rouge_1_score('stage2_generated1_lowercase_word_list', \"rest_words_lowercase_word_list\")\n",
    "cal_rouge_1_score('stage2_generated2_lowercase_word_list', \"rest_words_lowercase_word_list\")\n",
    "cal_rouge_1_score('stage2_generated3_lowercase_word_list', \"rest_words_lowercase_word_list\")"
   ]
  },
  {
   "cell_type": "code",
   "execution_count": 17,
   "id": "static-holmes",
   "metadata": {},
   "outputs": [
    {
     "name": "stdout",
     "output_type": "stream",
     "text": [
      "rouge_1 of stage1_generated1_uppercase_word_list and rest_words_uppercase_word_list is 0.04596091189582357\n",
      "rouge_1 of stage1_generated2_uppercase_word_list and rest_words_uppercase_word_list is 0.04611303215131953\n",
      "rouge_1 of stage1_generated3_uppercase_word_list and rest_words_uppercase_word_list is 0.046401730584296655\n",
      "rouge_1 of stage2_generated1_uppercase_word_list and rest_words_uppercase_word_list is 0.05732904976168874\n",
      "rouge_1 of stage2_generated2_uppercase_word_list and rest_words_uppercase_word_list is 0.055477626546933057\n",
      "rouge_1 of stage2_generated3_uppercase_word_list and rest_words_uppercase_word_list is 0.0579341212389272\n"
     ]
    }
   ],
   "source": [
    "cal_rouge_1_score('stage1_generated1_uppercase_word_list', \"rest_words_uppercase_word_list\")\n",
    "cal_rouge_1_score('stage1_generated2_uppercase_word_list', \"rest_words_uppercase_word_list\")\n",
    "cal_rouge_1_score('stage1_generated3_uppercase_word_list', \"rest_words_uppercase_word_list\")\n",
    "cal_rouge_1_score('stage2_generated1_uppercase_word_list', \"rest_words_uppercase_word_list\")\n",
    "cal_rouge_1_score('stage2_generated2_uppercase_word_list', \"rest_words_uppercase_word_list\")\n",
    "cal_rouge_1_score('stage2_generated3_uppercase_word_list', \"rest_words_uppercase_word_list\")"
   ]
  },
  {
   "cell_type": "code",
   "execution_count": 14,
   "id": "measured-wrong",
   "metadata": {},
   "outputs": [
    {
     "name": "stdout",
     "output_type": "stream",
     "text": [
      "rouge_1 of s1g1_ADJ_word_list and context_ADJ_word_list is 0.0406673276199205\n",
      "rouge_1 of s1g2_ADJ_word_list and context_ADJ_word_list is 0.04436622523026032\n",
      "rouge_1 of s1g3_ADJ_word_list and context_ADJ_word_list is 0.037490260453818244\n",
      "rouge_1 of s2g1_ADJ_word_list and context_ADJ_word_list is 0.052621889059131066\n",
      "rouge_1 of s2g2_ADJ_word_list and context_ADJ_word_list is 0.05749820926168965\n",
      "rouge_1 of s2g3_ADJ_word_list and context_ADJ_word_list is 0.060355253896430365\n",
      "\n",
      "rouge_1 of s1g1_ADJ_word_list and rest_words_ADJ_word_list is 0.02251165437685046\n",
      "rouge_1 of s1g2_ADJ_word_list and rest_words_ADJ_word_list is 0.028350124582064724\n",
      "rouge_1 of s1g3_ADJ_word_list and rest_words_ADJ_word_list is 0.02491375661996147\n",
      "rouge_1 of s2g1_ADJ_word_list and rest_words_ADJ_word_list is 0.024583379378142024\n",
      "rouge_1 of s2g2_ADJ_word_list and rest_words_ADJ_word_list is 0.02806398619917712\n",
      "rouge_1 of s2g3_ADJ_word_list and rest_words_ADJ_word_list is 0.026973893893277954\n"
     ]
    }
   ],
   "source": [
    "cal_rouge_1_score('s1g1_ADJ_word_list', \"context_ADJ_word_list\")\n",
    "cal_rouge_1_score('s1g2_ADJ_word_list', \"context_ADJ_word_list\")\n",
    "cal_rouge_1_score('s1g3_ADJ_word_list', \"context_ADJ_word_list\")\n",
    "cal_rouge_1_score('s2g1_ADJ_word_list', \"context_ADJ_word_list\")\n",
    "cal_rouge_1_score('s2g2_ADJ_word_list', \"context_ADJ_word_list\")\n",
    "cal_rouge_1_score('s2g3_ADJ_word_list', \"context_ADJ_word_list\")\n",
    "\n",
    "print()\n",
    "\n",
    "cal_rouge_1_score('s1g1_ADJ_word_list', \"rest_words_ADJ_word_list\")\n",
    "cal_rouge_1_score('s1g2_ADJ_word_list', \"rest_words_ADJ_word_list\")\n",
    "cal_rouge_1_score('s1g3_ADJ_word_list', \"rest_words_ADJ_word_list\")\n",
    "cal_rouge_1_score('s2g1_ADJ_word_list', \"rest_words_ADJ_word_list\")\n",
    "cal_rouge_1_score('s2g2_ADJ_word_list', \"rest_words_ADJ_word_list\")\n",
    "cal_rouge_1_score('s2g3_ADJ_word_list', \"rest_words_ADJ_word_list\")\n",
    "\n",
    "#ADJ number is 54201"
   ]
  },
  {
   "cell_type": "code",
   "execution_count": 15,
   "id": "outer-interstate",
   "metadata": {},
   "outputs": [
    {
     "name": "stdout",
     "output_type": "stream",
     "text": [
      "rouge_1 of s1g1_ADP_word_list and context_ADP_word_list is 0.28304561035303455\n",
      "rouge_1 of s1g2_ADP_word_list and context_ADP_word_list is 0.2802997129757865\n",
      "rouge_1 of s1g3_ADP_word_list and context_ADP_word_list is 0.2830566634589467\n",
      "rouge_1 of s2g1_ADP_word_list and context_ADP_word_list is 0.2923663740943153\n",
      "rouge_1 of s2g2_ADP_word_list and context_ADP_word_list is 0.2932998767657172\n",
      "rouge_1 of s2g3_ADP_word_list and context_ADP_word_list is 0.29051788403748624\n",
      "\n",
      "rouge_1 of s1g1_ADP_word_list and rest_words_ADP_word_list is 0.28225691072468323\n",
      "rouge_1 of s1g2_ADP_word_list and rest_words_ADP_word_list is 0.2844094739270701\n",
      "rouge_1 of s1g3_ADP_word_list and rest_words_ADP_word_list is 0.28329229326535904\n",
      "rouge_1 of s2g1_ADP_word_list and rest_words_ADP_word_list is 0.2809052911551369\n",
      "rouge_1 of s2g2_ADP_word_list and rest_words_ADP_word_list is 0.2856395155236223\n",
      "rouge_1 of s2g3_ADP_word_list and rest_words_ADP_word_list is 0.28340986666350326\n"
     ]
    }
   ],
   "source": [
    "cal_rouge_1_score('s1g1_ADP_word_list', \"context_ADP_word_list\")\n",
    "cal_rouge_1_score('s1g2_ADP_word_list', \"context_ADP_word_list\")\n",
    "cal_rouge_1_score('s1g3_ADP_word_list', \"context_ADP_word_list\")\n",
    "cal_rouge_1_score('s2g1_ADP_word_list', \"context_ADP_word_list\")\n",
    "cal_rouge_1_score('s2g2_ADP_word_list', \"context_ADP_word_list\")\n",
    "cal_rouge_1_score('s2g3_ADP_word_list', \"context_ADP_word_list\")\n",
    "\n",
    "print()\n",
    "\n",
    "cal_rouge_1_score('s1g1_ADP_word_list', \"rest_words_ADP_word_list\")\n",
    "cal_rouge_1_score('s1g2_ADP_word_list', \"rest_words_ADP_word_list\")\n",
    "cal_rouge_1_score('s1g3_ADP_word_list', \"rest_words_ADP_word_list\")\n",
    "cal_rouge_1_score('s2g1_ADP_word_list', \"rest_words_ADP_word_list\")\n",
    "cal_rouge_1_score('s2g2_ADP_word_list', \"rest_words_ADP_word_list\")\n",
    "cal_rouge_1_score('s2g3_ADP_word_list', \"rest_words_ADP_word_list\")\n",
    "\n",
    "#123226"
   ]
  },
  {
   "cell_type": "code",
   "execution_count": 16,
   "id": "scheduled-morning",
   "metadata": {},
   "outputs": [
    {
     "name": "stdout",
     "output_type": "stream",
     "text": [
      "rouge_1 of s1g1_CCONJ_word_list and context_CCONJ_word_list is 0.251099506974507\n",
      "rouge_1 of s1g2_CCONJ_word_list and context_CCONJ_word_list is 0.25543672839506176\n",
      "rouge_1 of s1g3_CCONJ_word_list and context_CCONJ_word_list is 0.26427745556912224\n",
      "rouge_1 of s2g1_CCONJ_word_list and context_CCONJ_word_list is 0.2660110229276896\n",
      "rouge_1 of s2g2_CCONJ_word_list and context_CCONJ_word_list is 0.26361135161135163\n",
      "rouge_1 of s2g3_CCONJ_word_list and context_CCONJ_word_list is 0.25149154240820903\n",
      "\n",
      "rouge_1 of s1g1_CCONJ_word_list and rest_words_CCONJ_word_list is 0.31095991662658334\n",
      "rouge_1 of s1g2_CCONJ_word_list and rest_words_CCONJ_word_list is 0.3084611977528644\n",
      "rouge_1 of s1g3_CCONJ_word_list and rest_words_CCONJ_word_list is 0.3106447764290901\n",
      "rouge_1 of s2g1_CCONJ_word_list and rest_words_CCONJ_word_list is 0.31265145965145963\n",
      "rouge_1 of s2g2_CCONJ_word_list and rest_words_CCONJ_word_list is 0.31210163139329805\n",
      "rouge_1 of s2g3_CCONJ_word_list and rest_words_CCONJ_word_list is 0.29735329331162663\n"
     ]
    }
   ],
   "source": [
    "cal_rouge_1_score('s1g1_CCONJ_word_list', \"context_CCONJ_word_list\")\n",
    "cal_rouge_1_score('s1g2_CCONJ_word_list', \"context_CCONJ_word_list\")\n",
    "cal_rouge_1_score('s1g3_CCONJ_word_list', \"context_CCONJ_word_list\")\n",
    "cal_rouge_1_score('s2g1_CCONJ_word_list', \"context_CCONJ_word_list\")\n",
    "cal_rouge_1_score('s2g2_CCONJ_word_list', \"context_CCONJ_word_list\")\n",
    "cal_rouge_1_score('s2g3_CCONJ_word_list', \"context_CCONJ_word_list\")\n",
    "\n",
    "print()\n",
    "\n",
    "cal_rouge_1_score('s1g1_CCONJ_word_list', \"rest_words_CCONJ_word_list\")\n",
    "cal_rouge_1_score('s1g2_CCONJ_word_list', \"rest_words_CCONJ_word_list\")\n",
    "cal_rouge_1_score('s1g3_CCONJ_word_list', \"rest_words_CCONJ_word_list\")\n",
    "cal_rouge_1_score('s2g1_CCONJ_word_list', \"rest_words_CCONJ_word_list\")\n",
    "cal_rouge_1_score('s2g2_CCONJ_word_list', \"rest_words_CCONJ_word_list\")\n",
    "cal_rouge_1_score('s2g3_CCONJ_word_list', \"rest_words_CCONJ_word_list\")\n",
    "\n",
    "#28829"
   ]
  },
  {
   "cell_type": "code",
   "execution_count": 17,
   "id": "substantial-animation",
   "metadata": {},
   "outputs": [
    {
     "name": "stdout",
     "output_type": "stream",
     "text": [
      "rouge_1 of s1g1_DET_word_list and context_DET_word_list is 0.4168576735161908\n",
      "rouge_1 of s1g2_DET_word_list and context_DET_word_list is 0.4130945150804486\n",
      "rouge_1 of s1g3_DET_word_list and context_DET_word_list is 0.4167084146336597\n",
      "rouge_1 of s2g1_DET_word_list and context_DET_word_list is 0.4161507255763577\n",
      "rouge_1 of s2g2_DET_word_list and context_DET_word_list is 0.42179584022501976\n",
      "rouge_1 of s2g3_DET_word_list and context_DET_word_list is 0.41816645308595773\n",
      "\n",
      "rouge_1 of s1g1_DET_word_list and rest_words_DET_word_list is 0.43836591628298116\n",
      "rouge_1 of s1g2_DET_word_list and rest_words_DET_word_list is 0.4461429060626035\n",
      "rouge_1 of s1g3_DET_word_list and rest_words_DET_word_list is 0.4455296833168294\n",
      "rouge_1 of s2g1_DET_word_list and rest_words_DET_word_list is 0.4388012532799432\n",
      "rouge_1 of s2g2_DET_word_list and rest_words_DET_word_list is 0.4429640800830564\n",
      "rouge_1 of s2g3_DET_word_list and rest_words_DET_word_list is 0.44158731418455077\n"
     ]
    }
   ],
   "source": [
    "cal_rouge_1_score('s1g1_DET_word_list', \"context_DET_word_list\")\n",
    "cal_rouge_1_score('s1g2_DET_word_list', \"context_DET_word_list\")\n",
    "cal_rouge_1_score('s1g3_DET_word_list', \"context_DET_word_list\")\n",
    "cal_rouge_1_score('s2g1_DET_word_list', \"context_DET_word_list\")\n",
    "cal_rouge_1_score('s2g2_DET_word_list', \"context_DET_word_list\")\n",
    "cal_rouge_1_score('s2g3_DET_word_list', \"context_DET_word_list\")\n",
    "\n",
    "print()\n",
    "\n",
    "cal_rouge_1_score('s1g1_DET_word_list', \"rest_words_DET_word_list\")\n",
    "cal_rouge_1_score('s1g2_DET_word_list', \"rest_words_DET_word_list\")\n",
    "cal_rouge_1_score('s1g3_DET_word_list', \"rest_words_DET_word_list\")\n",
    "cal_rouge_1_score('s2g1_DET_word_list', \"rest_words_DET_word_list\")\n",
    "cal_rouge_1_score('s2g2_DET_word_list', \"rest_words_DET_word_list\")\n",
    "cal_rouge_1_score('s2g3_DET_word_list', \"rest_words_DET_word_list\")\n",
    "\n",
    "#114307"
   ]
  },
  {
   "cell_type": "code",
   "execution_count": 18,
   "id": "opponent-constraint",
   "metadata": {},
   "outputs": [
    {
     "name": "stdout",
     "output_type": "stream",
     "text": [
      "rouge_1 of s1g1_NOUN_word_list and context_NOUN_word_list is 0.08932005378077387\n",
      "rouge_1 of s1g2_NOUN_word_list and context_NOUN_word_list is 0.08746224518158881\n",
      "rouge_1 of s1g3_NOUN_word_list and context_NOUN_word_list is 0.08784147819266894\n",
      "rouge_1 of s2g1_NOUN_word_list and context_NOUN_word_list is 0.11565512839773513\n",
      "rouge_1 of s2g2_NOUN_word_list and context_NOUN_word_list is 0.11719968684277497\n",
      "rouge_1 of s2g3_NOUN_word_list and context_NOUN_word_list is 0.11654959024153963\n",
      "\n",
      "rouge_1 of s1g1_NOUN_word_list and rest_words_NOUN_word_list is 0.051400020947084485\n",
      "rouge_1 of s1g2_NOUN_word_list and rest_words_NOUN_word_list is 0.04733577641884376\n",
      "rouge_1 of s1g3_NOUN_word_list and rest_words_NOUN_word_list is 0.05082789908745472\n",
      "rouge_1 of s2g1_NOUN_word_list and rest_words_NOUN_word_list is 0.05683814624031631\n",
      "rouge_1 of s2g2_NOUN_word_list and rest_words_NOUN_word_list is 0.053415312922867\n",
      "rouge_1 of s2g3_NOUN_word_list and rest_words_NOUN_word_list is 0.05703900495198113\n"
     ]
    }
   ],
   "source": [
    "cal_rouge_1_score('s1g1_NOUN_word_list', \"context_NOUN_word_list\")\n",
    "cal_rouge_1_score('s1g2_NOUN_word_list', \"context_NOUN_word_list\")\n",
    "cal_rouge_1_score('s1g3_NOUN_word_list', \"context_NOUN_word_list\")\n",
    "cal_rouge_1_score('s2g1_NOUN_word_list', \"context_NOUN_word_list\")\n",
    "cal_rouge_1_score('s2g2_NOUN_word_list', \"context_NOUN_word_list\")\n",
    "cal_rouge_1_score('s2g3_NOUN_word_list', \"context_NOUN_word_list\")\n",
    "\n",
    "print()\n",
    "\n",
    "cal_rouge_1_score('s1g1_NOUN_word_list', \"rest_words_NOUN_word_list\")\n",
    "cal_rouge_1_score('s1g2_NOUN_word_list', \"rest_words_NOUN_word_list\")\n",
    "cal_rouge_1_score('s1g3_NOUN_word_list', \"rest_words_NOUN_word_list\")\n",
    "cal_rouge_1_score('s2g1_NOUN_word_list', \"rest_words_NOUN_word_list\")\n",
    "cal_rouge_1_score('s2g2_NOUN_word_list', \"rest_words_NOUN_word_list\")\n",
    "cal_rouge_1_score('s2g3_NOUN_word_list', \"rest_words_NOUN_word_list\")\n",
    "\n",
    "#166403"
   ]
  },
  {
   "cell_type": "code",
   "execution_count": 19,
   "id": "attached-granny",
   "metadata": {},
   "outputs": [
    {
     "name": "stdout",
     "output_type": "stream",
     "text": [
      "rouge_1 of s1g1_PART_word_list and context_PART_word_list is 0.07159149029982363\n",
      "rouge_1 of s1g2_PART_word_list and context_PART_word_list is 0.0775825702075702\n",
      "rouge_1 of s1g3_PART_word_list and context_PART_word_list is 0.06964119368286034\n",
      "rouge_1 of s2g1_PART_word_list and context_PART_word_list is 0.0892797619047619\n",
      "rouge_1 of s2g2_PART_word_list and context_PART_word_list is 0.08132168911335579\n",
      "rouge_1 of s2g3_PART_word_list and context_PART_word_list is 0.08378946208112874\n",
      "\n",
      "rouge_1 of s1g1_PART_word_list and rest_words_PART_word_list is 0.08968694885361553\n",
      "rouge_1 of s1g2_PART_word_list and rest_words_PART_word_list is 0.08485878627545294\n",
      "rouge_1 of s1g3_PART_word_list and rest_words_PART_word_list is 0.08971340388007056\n",
      "rouge_1 of s2g1_PART_word_list and rest_words_PART_word_list is 0.09188536155202823\n",
      "rouge_1 of s2g2_PART_word_list and rest_words_PART_word_list is 0.09501911822745156\n",
      "rouge_1 of s2g3_PART_word_list and rest_words_PART_word_list is 0.0912831088664422\n"
     ]
    }
   ],
   "source": [
    "cal_rouge_1_score('s1g1_PART_word_list', \"context_PART_word_list\")\n",
    "cal_rouge_1_score('s1g2_PART_word_list', \"context_PART_word_list\")\n",
    "cal_rouge_1_score('s1g3_PART_word_list', \"context_PART_word_list\")\n",
    "cal_rouge_1_score('s2g1_PART_word_list', \"context_PART_word_list\")\n",
    "cal_rouge_1_score('s2g2_PART_word_list', \"context_PART_word_list\")\n",
    "cal_rouge_1_score('s2g3_PART_word_list', \"context_PART_word_list\")\n",
    "\n",
    "print()\n",
    "\n",
    "cal_rouge_1_score('s1g1_PART_word_list', \"rest_words_PART_word_list\")\n",
    "cal_rouge_1_score('s1g2_PART_word_list', \"rest_words_PART_word_list\")\n",
    "cal_rouge_1_score('s1g3_PART_word_list', \"rest_words_PART_word_list\")\n",
    "cal_rouge_1_score('s2g1_PART_word_list', \"rest_words_PART_word_list\")\n",
    "cal_rouge_1_score('s2g2_PART_word_list', \"rest_words_PART_word_list\")\n",
    "cal_rouge_1_score('s2g3_PART_word_list', \"rest_words_PART_word_list\")\n",
    "\n",
    "#15771"
   ]
  },
  {
   "cell_type": "code",
   "execution_count": 20,
   "id": "forced-attitude",
   "metadata": {},
   "outputs": [
    {
     "name": "stdout",
     "output_type": "stream",
     "text": [
      "rouge_1 of s1g1_PRON_word_list and context_PRON_word_list is 0.1040324026917164\n",
      "rouge_1 of s1g2_PRON_word_list and context_PRON_word_list is 0.10858039876789878\n",
      "rouge_1 of s1g3_PRON_word_list and context_PRON_word_list is 0.10769389544828142\n",
      "rouge_1 of s2g1_PRON_word_list and context_PRON_word_list is 0.11736635124135124\n",
      "rouge_1 of s2g2_PRON_word_list and context_PRON_word_list is 0.11257318684402018\n",
      "rouge_1 of s2g3_PRON_word_list and context_PRON_word_list is 0.11148038998038999\n",
      "\n",
      "rouge_1 of s1g1_PRON_word_list and rest_words_PRON_word_list is 0.10439562634170475\n",
      "rouge_1 of s1g2_PRON_word_list and rest_words_PRON_word_list is 0.09749599941634254\n",
      "rouge_1 of s1g3_PRON_word_list and rest_words_PRON_word_list is 0.10543003669351708\n",
      "rouge_1 of s2g1_PRON_word_list and rest_words_PRON_word_list is 0.10702678876182489\n",
      "rouge_1 of s2g2_PRON_word_list and rest_words_PRON_word_list is 0.10071751786702765\n",
      "rouge_1 of s2g3_PRON_word_list and rest_words_PRON_word_list is 0.10238833116774294\n"
     ]
    }
   ],
   "source": [
    "cal_rouge_1_score('s1g1_PRON_word_list', \"context_PRON_word_list\")\n",
    "cal_rouge_1_score('s1g2_PRON_word_list', \"context_PRON_word_list\")\n",
    "cal_rouge_1_score('s1g3_PRON_word_list', \"context_PRON_word_list\")\n",
    "cal_rouge_1_score('s2g1_PRON_word_list', \"context_PRON_word_list\")\n",
    "cal_rouge_1_score('s2g2_PRON_word_list', \"context_PRON_word_list\")\n",
    "cal_rouge_1_score('s2g3_PRON_word_list', \"context_PRON_word_list\")\n",
    "\n",
    "print()\n",
    "\n",
    "cal_rouge_1_score('s1g1_PRON_word_list', \"rest_words_PRON_word_list\")\n",
    "cal_rouge_1_score('s1g2_PRON_word_list', \"rest_words_PRON_word_list\")\n",
    "cal_rouge_1_score('s1g3_PRON_word_list', \"rest_words_PRON_word_list\")\n",
    "cal_rouge_1_score('s2g1_PRON_word_list', \"rest_words_PRON_word_list\")\n",
    "cal_rouge_1_score('s2g2_PRON_word_list', \"rest_words_PRON_word_list\")\n",
    "cal_rouge_1_score('s2g3_PRON_word_list', \"rest_words_PRON_word_list\")\n",
    "\n",
    "#32637"
   ]
  },
  {
   "cell_type": "code",
   "execution_count": 21,
   "id": "designed-librarian",
   "metadata": {},
   "outputs": [
    {
     "name": "stdout",
     "output_type": "stream",
     "text": [
      "rouge_1 of s1g1_PROPN_word_list and context_PROPN_word_list is 0.11437508080158215\n",
      "rouge_1 of s1g2_PROPN_word_list and context_PROPN_word_list is 0.12263171524936563\n",
      "rouge_1 of s1g3_PROPN_word_list and context_PROPN_word_list is 0.1214483590479608\n",
      "rouge_1 of s2g1_PROPN_word_list and context_PROPN_word_list is 0.1676714558342071\n",
      "rouge_1 of s2g2_PROPN_word_list and context_PROPN_word_list is 0.16677324699570467\n",
      "rouge_1 of s2g3_PROPN_word_list and context_PROPN_word_list is 0.1623559597134896\n",
      "\n",
      "rouge_1 of s1g1_PROPN_word_list and rest_words_PROPN_word_list is 0.044532391251265326\n",
      "rouge_1 of s1g2_PROPN_word_list and rest_words_PROPN_word_list is 0.04493766541757058\n",
      "rouge_1 of s1g3_PROPN_word_list and rest_words_PROPN_word_list is 0.04386059034308791\n",
      "rouge_1 of s2g1_PROPN_word_list and rest_words_PROPN_word_list is 0.05630749153026165\n",
      "rouge_1 of s2g2_PROPN_word_list and rest_words_PROPN_word_list is 0.054168759836266116\n",
      "rouge_1 of s2g3_PROPN_word_list and rest_words_PROPN_word_list is 0.05632076814463505\n"
     ]
    }
   ],
   "source": [
    "cal_rouge_1_score('s1g1_PROPN_word_list', \"context_PROPN_word_list\")\n",
    "cal_rouge_1_score('s1g2_PROPN_word_list', \"context_PROPN_word_list\")\n",
    "cal_rouge_1_score('s1g3_PROPN_word_list', \"context_PROPN_word_list\")\n",
    "cal_rouge_1_score('s2g1_PROPN_word_list', \"context_PROPN_word_list\")\n",
    "cal_rouge_1_score('s2g2_PROPN_word_list', \"context_PROPN_word_list\")\n",
    "cal_rouge_1_score('s2g3_PROPN_word_list', \"context_PROPN_word_list\")\n",
    "\n",
    "print()\n",
    "\n",
    "cal_rouge_1_score('s1g1_PROPN_word_list', \"rest_words_PROPN_word_list\")\n",
    "cal_rouge_1_score('s1g2_PROPN_word_list', \"rest_words_PROPN_word_list\")\n",
    "cal_rouge_1_score('s1g3_PROPN_word_list', \"rest_words_PROPN_word_list\")\n",
    "cal_rouge_1_score('s2g1_PROPN_word_list', \"rest_words_PROPN_word_list\")\n",
    "cal_rouge_1_score('s2g2_PROPN_word_list', \"rest_words_PROPN_word_list\")\n",
    "cal_rouge_1_score('s2g3_PROPN_word_list', \"rest_words_PROPN_word_list\")\n",
    "\n",
    "#131565"
   ]
  },
  {
   "cell_type": "code",
   "execution_count": 22,
   "id": "outside-sleeping",
   "metadata": {},
   "outputs": [
    {
     "name": "stdout",
     "output_type": "stream",
     "text": [
      "rouge_1 of s1g1_PUNCT_word_list and context_PUNCT_word_list is 0.4585770722958706\n",
      "rouge_1 of s1g2_PUNCT_word_list and context_PUNCT_word_list is 0.4557777274573993\n",
      "rouge_1 of s1g3_PUNCT_word_list and context_PUNCT_word_list is 0.4578392508194131\n",
      "rouge_1 of s2g1_PUNCT_word_list and context_PUNCT_word_list is 0.4595360942207395\n",
      "rouge_1 of s2g2_PUNCT_word_list and context_PUNCT_word_list is 0.4711712317563668\n",
      "rouge_1 of s2g3_PUNCT_word_list and context_PUNCT_word_list is 0.4648940326285004\n",
      "\n",
      "rouge_1 of s1g1_PUNCT_word_list and rest_words_PUNCT_word_list is 0.43742224647711875\n",
      "rouge_1 of s1g2_PUNCT_word_list and rest_words_PUNCT_word_list is 0.43924827728362387\n",
      "rouge_1 of s1g3_PUNCT_word_list and rest_words_PUNCT_word_list is 0.43947047643636344\n",
      "rouge_1 of s2g1_PUNCT_word_list and rest_words_PUNCT_word_list is 0.4361508235926218\n",
      "rouge_1 of s2g2_PUNCT_word_list and rest_words_PUNCT_word_list is 0.4385391741746518\n",
      "rouge_1 of s2g3_PUNCT_word_list and rest_words_PUNCT_word_list is 0.44393021492292317\n"
     ]
    }
   ],
   "source": [
    "cal_rouge_1_score('s1g1_PUNCT_word_list', \"context_PUNCT_word_list\")\n",
    "cal_rouge_1_score('s1g2_PUNCT_word_list', \"context_PUNCT_word_list\")\n",
    "cal_rouge_1_score('s1g3_PUNCT_word_list', \"context_PUNCT_word_list\")\n",
    "cal_rouge_1_score('s2g1_PUNCT_word_list', \"context_PUNCT_word_list\")\n",
    "cal_rouge_1_score('s2g2_PUNCT_word_list', \"context_PUNCT_word_list\")\n",
    "cal_rouge_1_score('s2g3_PUNCT_word_list', \"context_PUNCT_word_list\")\n",
    "\n",
    "print()\n",
    "\n",
    "cal_rouge_1_score('s1g1_PUNCT_word_list', \"rest_words_PUNCT_word_list\")\n",
    "cal_rouge_1_score('s1g2_PUNCT_word_list', \"rest_words_PUNCT_word_list\")\n",
    "cal_rouge_1_score('s1g3_PUNCT_word_list', \"rest_words_PUNCT_word_list\")\n",
    "cal_rouge_1_score('s2g1_PUNCT_word_list', \"rest_words_PUNCT_word_list\")\n",
    "cal_rouge_1_score('s2g2_PUNCT_word_list', \"rest_words_PUNCT_word_list\")\n",
    "cal_rouge_1_score('s2g3_PUNCT_word_list', \"rest_words_PUNCT_word_list\")\n",
    "\n",
    "#136537"
   ]
  },
  {
   "cell_type": "code",
   "execution_count": 23,
   "id": "efficient-community",
   "metadata": {},
   "outputs": [
    {
     "name": "stdout",
     "output_type": "stream",
     "text": [
      "rouge_1 of s1g1_VERB_word_list and context_VERB_word_list is 0.051039965254426035\n",
      "rouge_1 of s1g2_VERB_word_list and context_VERB_word_list is 0.05143493509366833\n",
      "rouge_1 of s1g3_VERB_word_list and context_VERB_word_list is 0.05230690748402307\n",
      "rouge_1 of s2g1_VERB_word_list and context_VERB_word_list is 0.06709343308337115\n",
      "rouge_1 of s2g2_VERB_word_list and context_VERB_word_list is 0.060201220983083725\n",
      "rouge_1 of s2g3_VERB_word_list and context_VERB_word_list is 0.06594993549192464\n",
      "\n",
      "rouge_1 of s1g1_VERB_word_list and rest_words_VERB_word_list is 0.034613651088238294\n",
      "rouge_1 of s1g2_VERB_word_list and rest_words_VERB_word_list is 0.0366499685877995\n",
      "rouge_1 of s1g3_VERB_word_list and rest_words_VERB_word_list is 0.035866498232016805\n",
      "rouge_1 of s2g1_VERB_word_list and rest_words_VERB_word_list is 0.03953065242494618\n",
      "rouge_1 of s2g2_VERB_word_list and rest_words_VERB_word_list is 0.03645607657927059\n",
      "rouge_1 of s2g3_VERB_word_list and rest_words_VERB_word_list is 0.03849490651915832\n"
     ]
    }
   ],
   "source": [
    "cal_rouge_1_score('s1g1_VERB_word_list', \"context_VERB_word_list\")\n",
    "cal_rouge_1_score('s1g2_VERB_word_list', \"context_VERB_word_list\")\n",
    "cal_rouge_1_score('s1g3_VERB_word_list', \"context_VERB_word_list\")\n",
    "cal_rouge_1_score('s2g1_VERB_word_list', \"context_VERB_word_list\")\n",
    "cal_rouge_1_score('s2g2_VERB_word_list', \"context_VERB_word_list\")\n",
    "cal_rouge_1_score('s2g3_VERB_word_list', \"context_VERB_word_list\")\n",
    "\n",
    "print()\n",
    "\n",
    "cal_rouge_1_score('s1g1_VERB_word_list', \"rest_words_VERB_word_list\")\n",
    "cal_rouge_1_score('s1g2_VERB_word_list', \"rest_words_VERB_word_list\")\n",
    "cal_rouge_1_score('s1g3_VERB_word_list', \"rest_words_VERB_word_list\")\n",
    "cal_rouge_1_score('s2g1_VERB_word_list', \"rest_words_VERB_word_list\")\n",
    "cal_rouge_1_score('s2g2_VERB_word_list', \"rest_words_VERB_word_list\")\n",
    "cal_rouge_1_score('s2g3_VERB_word_list', \"rest_words_VERB_word_list\")\n",
    "\n",
    "#78043"
   ]
  },
  {
   "cell_type": "code",
   "execution_count": 24,
   "id": "posted-commitment",
   "metadata": {},
   "outputs": [
    {
     "name": "stdout",
     "output_type": "stream",
     "text": [
      "rouge_1 of s1g1_AUX_word_list and context_AUX_word_list is 0.19200807525807526\n",
      "rouge_1 of s1g2_AUX_word_list and context_AUX_word_list is 0.19687538079204747\n",
      "rouge_1 of s1g3_AUX_word_list and context_AUX_word_list is 0.19843907327240662\n",
      "rouge_1 of s2g1_AUX_word_list and context_AUX_word_list is 0.21359319230152563\n",
      "rouge_1 of s2g2_AUX_word_list and context_AUX_word_list is 0.21169026806526806\n",
      "rouge_1 of s2g3_AUX_word_list and context_AUX_word_list is 0.2144443241943242\n",
      "\n",
      "rouge_1 of s1g1_AUX_word_list and rest_words_AUX_word_list is 0.18873743232076565\n",
      "rouge_1 of s1g2_AUX_word_list and rest_words_AUX_word_list is 0.2042428250761584\n",
      "rouge_1 of s1g3_AUX_word_list and rest_words_AUX_word_list is 0.20255763989097325\n",
      "rouge_1 of s2g1_AUX_word_list and rest_words_AUX_word_list is 0.20374399982733316\n",
      "rouge_1 of s2g2_AUX_word_list and rest_words_AUX_word_list is 0.19939630431297095\n",
      "rouge_1 of s2g3_AUX_word_list and rest_words_AUX_word_list is 0.20415155523488857\n"
     ]
    }
   ],
   "source": [
    "cal_rouge_1_score('s1g1_AUX_word_list', \"context_AUX_word_list\")\n",
    "cal_rouge_1_score('s1g2_AUX_word_list', \"context_AUX_word_list\")\n",
    "cal_rouge_1_score('s1g3_AUX_word_list', \"context_AUX_word_list\")\n",
    "cal_rouge_1_score('s2g1_AUX_word_list', \"context_AUX_word_list\")\n",
    "cal_rouge_1_score('s2g2_AUX_word_list', \"context_AUX_word_list\")\n",
    "cal_rouge_1_score('s2g3_AUX_word_list', \"context_AUX_word_list\")\n",
    "\n",
    "print()\n",
    "\n",
    "cal_rouge_1_score('s1g1_AUX_word_list', \"rest_words_AUX_word_list\")\n",
    "cal_rouge_1_score('s1g2_AUX_word_list', \"rest_words_AUX_word_list\")\n",
    "cal_rouge_1_score('s1g3_AUX_word_list', \"rest_words_AUX_word_list\")\n",
    "cal_rouge_1_score('s2g1_AUX_word_list', \"rest_words_AUX_word_list\")\n",
    "cal_rouge_1_score('s2g2_AUX_word_list', \"rest_words_AUX_word_list\")\n",
    "cal_rouge_1_score('s2g3_AUX_word_list', \"rest_words_AUX_word_list\")\n",
    "\n",
    "#39308"
   ]
  },
  {
   "cell_type": "code",
   "execution_count": 25,
   "id": "metropolitan-traffic",
   "metadata": {},
   "outputs": [
    {
     "name": "stdout",
     "output_type": "stream",
     "text": [
      "rouge_1 of s1g1_ADV_word_list and context_ADV_word_list is 0.01915808882475549\n",
      "rouge_1 of s1g2_ADV_word_list and context_ADV_word_list is 0.016458994708994708\n",
      "rouge_1 of s1g3_ADV_word_list and context_ADV_word_list is 0.014532647907647907\n",
      "rouge_1 of s2g1_ADV_word_list and context_ADV_word_list is 0.022180555555555554\n",
      "rouge_1 of s2g2_ADV_word_list and context_ADV_word_list is 0.0216174905341572\n",
      "rouge_1 of s2g3_ADV_word_list and context_ADV_word_list is 0.022177214760548094\n",
      "\n",
      "rouge_1 of s1g1_ADV_word_list and rest_words_ADV_word_list is 0.018051366843033507\n",
      "rouge_1 of s1g2_ADV_word_list and rest_words_ADV_word_list is 0.017066951566951566\n",
      "rouge_1 of s1g3_ADV_word_list and rest_words_ADV_word_list is 0.016021604938271605\n",
      "rouge_1 of s2g1_ADV_word_list and rest_words_ADV_word_list is 0.017068823152156482\n",
      "rouge_1 of s2g2_ADV_word_list and rest_words_ADV_word_list is 0.018877865961199298\n",
      "rouge_1 of s2g3_ADV_word_list and rest_words_ADV_word_list is 0.019190275773609104\n"
     ]
    }
   ],
   "source": [
    "cal_rouge_1_score('s1g1_ADV_word_list', \"context_ADV_word_list\")\n",
    "cal_rouge_1_score('s1g2_ADV_word_list', \"context_ADV_word_list\")\n",
    "cal_rouge_1_score('s1g3_ADV_word_list', \"context_ADV_word_list\")\n",
    "cal_rouge_1_score('s2g1_ADV_word_list', \"context_ADV_word_list\")\n",
    "cal_rouge_1_score('s2g2_ADV_word_list', \"context_ADV_word_list\")\n",
    "cal_rouge_1_score('s2g3_ADV_word_list', \"context_ADV_word_list\")\n",
    "\n",
    "print()\n",
    "\n",
    "cal_rouge_1_score('s1g1_ADV_word_list', \"rest_words_ADV_word_list\")\n",
    "cal_rouge_1_score('s1g2_ADV_word_list', \"rest_words_ADV_word_list\")\n",
    "cal_rouge_1_score('s1g3_ADV_word_list', \"rest_words_ADV_word_list\")\n",
    "cal_rouge_1_score('s2g1_ADV_word_list', \"rest_words_ADV_word_list\")\n",
    "cal_rouge_1_score('s2g2_ADV_word_list', \"rest_words_ADV_word_list\")\n",
    "cal_rouge_1_score('s2g3_ADV_word_list', \"rest_words_ADV_word_list\")\n",
    "\n",
    "#19866"
   ]
  },
  {
   "cell_type": "code",
   "execution_count": 26,
   "id": "removable-productivity",
   "metadata": {},
   "outputs": [
    {
     "name": "stdout",
     "output_type": "stream",
     "text": [
      "rouge_1 of s1g1_SCONJ_word_list and context_SCONJ_word_list is 0.01462962962962963\n",
      "rouge_1 of s1g2_SCONJ_word_list and context_SCONJ_word_list is 0.01777910052910053\n",
      "rouge_1 of s1g3_SCONJ_word_list and context_SCONJ_word_list is 0.014388888888888889\n",
      "rouge_1 of s2g1_SCONJ_word_list and context_SCONJ_word_list is 0.017046296296296296\n",
      "rouge_1 of s2g2_SCONJ_word_list and context_SCONJ_word_list is 0.016686507936507933\n",
      "rouge_1 of s2g3_SCONJ_word_list and context_SCONJ_word_list is 0.021203703703703697\n",
      "\n",
      "rouge_1 of s1g1_SCONJ_word_list and rest_words_SCONJ_word_list is 0.014810846560846557\n",
      "rouge_1 of s1g2_SCONJ_word_list and rest_words_SCONJ_word_list is 0.015351851851851851\n",
      "rouge_1 of s1g3_SCONJ_word_list and rest_words_SCONJ_word_list is 0.014259259259259258\n",
      "rouge_1 of s2g1_SCONJ_word_list and rest_words_SCONJ_word_list is 0.015825396825396826\n",
      "rouge_1 of s2g2_SCONJ_word_list and rest_words_SCONJ_word_list is 0.01606613756613756\n",
      "rouge_1 of s2g3_SCONJ_word_list and rest_words_SCONJ_word_list is 0.018460317460317458\n"
     ]
    }
   ],
   "source": [
    "cal_rouge_1_score('s1g1_SCONJ_word_list', \"context_SCONJ_word_list\")\n",
    "cal_rouge_1_score('s1g2_SCONJ_word_list', \"context_SCONJ_word_list\")\n",
    "cal_rouge_1_score('s1g3_SCONJ_word_list', \"context_SCONJ_word_list\")\n",
    "cal_rouge_1_score('s2g1_SCONJ_word_list', \"context_SCONJ_word_list\")\n",
    "cal_rouge_1_score('s2g2_SCONJ_word_list', \"context_SCONJ_word_list\")\n",
    "cal_rouge_1_score('s2g3_SCONJ_word_list', \"context_SCONJ_word_list\")\n",
    "\n",
    "print()\n",
    "\n",
    "cal_rouge_1_score('s1g1_SCONJ_word_list', \"rest_words_SCONJ_word_list\")\n",
    "cal_rouge_1_score('s1g2_SCONJ_word_list', \"rest_words_SCONJ_word_list\")\n",
    "cal_rouge_1_score('s1g3_SCONJ_word_list', \"rest_words_SCONJ_word_list\")\n",
    "cal_rouge_1_score('s2g1_SCONJ_word_list', \"rest_words_SCONJ_word_list\")\n",
    "cal_rouge_1_score('s2g2_SCONJ_word_list', \"rest_words_SCONJ_word_list\")\n",
    "cal_rouge_1_score('s2g3_SCONJ_word_list', \"rest_words_SCONJ_word_list\")\n",
    "\n",
    "#5258"
   ]
  },
  {
   "cell_type": "code",
   "execution_count": 27,
   "id": "geological-sight",
   "metadata": {},
   "outputs": [
    {
     "name": "stdout",
     "output_type": "stream",
     "text": [
      "rouge_1 of s1g1_NUM_word_list and context_NUM_word_list is 0.025995615495615496\n",
      "rouge_1 of s1g2_NUM_word_list and context_NUM_word_list is 0.026345484762151428\n",
      "rouge_1 of s1g3_NUM_word_list and context_NUM_word_list is 0.02740518123851457\n",
      "rouge_1 of s2g1_NUM_word_list and context_NUM_word_list is 0.03682562345062345\n",
      "rouge_1 of s2g2_NUM_word_list and context_NUM_word_list is 0.03944756709340042\n",
      "rouge_1 of s2g3_NUM_word_list and context_NUM_word_list is 0.03896318187984854\n",
      "\n",
      "rouge_1 of s1g1_NUM_word_list and rest_words_NUM_word_list is 0.017341765941030648\n",
      "rouge_1 of s1g2_NUM_word_list and rest_words_NUM_word_list is 0.01833548361921685\n",
      "rouge_1 of s1g3_NUM_word_list and rest_words_NUM_word_list is 0.02035673454178356\n",
      "rouge_1 of s2g1_NUM_word_list and rest_words_NUM_word_list is 0.018548061506394837\n",
      "rouge_1 of s2g2_NUM_word_list and rest_words_NUM_word_list is 0.021102863186196516\n",
      "rouge_1 of s2g3_NUM_word_list and rest_words_NUM_word_list is 0.01830139674162255\n"
     ]
    }
   ],
   "source": [
    "cal_rouge_1_score('s1g1_NUM_word_list', \"context_NUM_word_list\")\n",
    "cal_rouge_1_score('s1g2_NUM_word_list', \"context_NUM_word_list\")\n",
    "cal_rouge_1_score('s1g3_NUM_word_list', \"context_NUM_word_list\")\n",
    "cal_rouge_1_score('s2g1_NUM_word_list', \"context_NUM_word_list\")\n",
    "cal_rouge_1_score('s2g2_NUM_word_list', \"context_NUM_word_list\")\n",
    "cal_rouge_1_score('s2g3_NUM_word_list', \"context_NUM_word_list\")\n",
    "\n",
    "print()\n",
    "\n",
    "cal_rouge_1_score('s1g1_NUM_word_list', \"rest_words_NUM_word_list\")\n",
    "cal_rouge_1_score('s1g2_NUM_word_list', \"rest_words_NUM_word_list\")\n",
    "cal_rouge_1_score('s1g3_NUM_word_list', \"rest_words_NUM_word_list\")\n",
    "cal_rouge_1_score('s2g1_NUM_word_list', \"rest_words_NUM_word_list\")\n",
    "cal_rouge_1_score('s2g2_NUM_word_list', \"rest_words_NUM_word_list\")\n",
    "cal_rouge_1_score('s2g3_NUM_word_list', \"rest_words_NUM_word_list\")\n",
    "\n",
    "#32304"
   ]
  },
  {
   "cell_type": "code",
   "execution_count": 28,
   "id": "flush-radar",
   "metadata": {},
   "outputs": [
    {
     "name": "stdout",
     "output_type": "stream",
     "text": [
      "rouge_1 of s1g1_INTJ_word_list and context_INTJ_word_list is 0.0006944444444444445\n",
      "rouge_1 of s1g2_INTJ_word_list and context_INTJ_word_list is 0.0002777777777777778\n",
      "rouge_1 of s1g3_INTJ_word_list and context_INTJ_word_list is 0.000324074074074074\n",
      "rouge_1 of s2g1_INTJ_word_list and context_INTJ_word_list is 0.0004629629629629629\n",
      "rouge_1 of s2g2_INTJ_word_list and context_INTJ_word_list is 0.0011111111111111111\n",
      "rouge_1 of s2g3_INTJ_word_list and context_INTJ_word_list is 0.0007407407407407407\n",
      "\n",
      "rouge_1 of s1g1_INTJ_word_list and rest_words_INTJ_word_list is 0.0015740740740740739\n",
      "rouge_1 of s1g2_INTJ_word_list and rest_words_INTJ_word_list is 0.0016666666666666668\n",
      "rouge_1 of s1g3_INTJ_word_list and rest_words_INTJ_word_list is 0.001388888888888889\n",
      "rouge_1 of s2g1_INTJ_word_list and rest_words_INTJ_word_list is 0.0016666666666666668\n",
      "rouge_1 of s2g2_INTJ_word_list and rest_words_INTJ_word_list is 0.0015740740740740739\n",
      "rouge_1 of s2g3_INTJ_word_list and rest_words_INTJ_word_list is 0.0018518518518518517\n"
     ]
    }
   ],
   "source": [
    "cal_rouge_1_score('s1g1_INTJ_word_list', \"context_INTJ_word_list\")\n",
    "cal_rouge_1_score('s1g2_INTJ_word_list', \"context_INTJ_word_list\")\n",
    "cal_rouge_1_score('s1g3_INTJ_word_list', \"context_INTJ_word_list\")\n",
    "cal_rouge_1_score('s2g1_INTJ_word_list', \"context_INTJ_word_list\")\n",
    "cal_rouge_1_score('s2g2_INTJ_word_list', \"context_INTJ_word_list\")\n",
    "cal_rouge_1_score('s2g3_INTJ_word_list', \"context_INTJ_word_list\")\n",
    "\n",
    "print()\n",
    "\n",
    "cal_rouge_1_score('s1g1_INTJ_word_list', \"rest_words_INTJ_word_list\")\n",
    "cal_rouge_1_score('s1g2_INTJ_word_list', \"rest_words_INTJ_word_list\")\n",
    "cal_rouge_1_score('s1g3_INTJ_word_list', \"rest_words_INTJ_word_list\")\n",
    "cal_rouge_1_score('s2g1_INTJ_word_list', \"rest_words_INTJ_word_list\")\n",
    "cal_rouge_1_score('s2g2_INTJ_word_list', \"rest_words_INTJ_word_list\")\n",
    "cal_rouge_1_score('s2g3_INTJ_word_list', \"rest_words_INTJ_word_list\")\n",
    "\n",
    "#565"
   ]
  },
  {
   "cell_type": "code",
   "execution_count": 29,
   "id": "hired-flavor",
   "metadata": {},
   "outputs": [
    {
     "name": "stdout",
     "output_type": "stream",
     "text": [
      "rouge_1 of s1g1_X_word_list and context_X_word_list is 0.001638888888888889\n",
      "rouge_1 of s1g2_X_word_list and context_X_word_list is 0.0017037037037037036\n",
      "rouge_1 of s1g3_X_word_list and context_X_word_list is 0.0012407407407407408\n",
      "rouge_1 of s2g1_X_word_list and context_X_word_list is 0.0017592592592592595\n",
      "rouge_1 of s2g2_X_word_list and context_X_word_list is 0.0007407407407407407\n",
      "rouge_1 of s2g3_X_word_list and context_X_word_list is 0.0013796296296296297\n",
      "\n",
      "rouge_1 of s1g1_X_word_list and rest_words_X_word_list is 0.001621693121693122\n",
      "rouge_1 of s1g2_X_word_list and rest_words_X_word_list is 0.0020555555555555557\n",
      "rouge_1 of s1g3_X_word_list and rest_words_X_word_list is 0.002063973063973064\n",
      "rouge_1 of s2g1_X_word_list and rest_words_X_word_list is 0.002222222222222222\n",
      "rouge_1 of s2g2_X_word_list and rest_words_X_word_list is 0.0022407407407407406\n",
      "rouge_1 of s2g3_X_word_list and rest_words_X_word_list is 0.0019212962962962962\n"
     ]
    }
   ],
   "source": [
    "cal_rouge_1_score('s1g1_X_word_list', \"context_X_word_list\")\n",
    "cal_rouge_1_score('s1g2_X_word_list', \"context_X_word_list\")\n",
    "cal_rouge_1_score('s1g3_X_word_list', \"context_X_word_list\")\n",
    "cal_rouge_1_score('s2g1_X_word_list', \"context_X_word_list\")\n",
    "cal_rouge_1_score('s2g2_X_word_list', \"context_X_word_list\")\n",
    "cal_rouge_1_score('s2g3_X_word_list', \"context_X_word_list\")\n",
    "\n",
    "print()\n",
    "\n",
    "cal_rouge_1_score('s1g1_X_word_list', \"rest_words_X_word_list\")\n",
    "cal_rouge_1_score('s1g2_X_word_list', \"rest_words_X_word_list\")\n",
    "cal_rouge_1_score('s1g3_X_word_list', \"rest_words_X_word_list\")\n",
    "cal_rouge_1_score('s2g1_X_word_list', \"rest_words_X_word_list\")\n",
    "cal_rouge_1_score('s2g2_X_word_list', \"rest_words_X_word_list\")\n",
    "cal_rouge_1_score('s2g3_X_word_list', \"rest_words_X_word_list\")\n",
    "\n",
    "#1082"
   ]
  },
  {
   "cell_type": "code",
   "execution_count": 30,
   "id": "contrary-medicare",
   "metadata": {},
   "outputs": [
    {
     "name": "stdout",
     "output_type": "stream",
     "text": [
      "rouge_1 of s1g1_SYM_word_list and context_SYM_word_list is 0.003953703703703703\n",
      "rouge_1 of s1g2_SYM_word_list and context_SYM_word_list is 0.004166666666666666\n",
      "rouge_1 of s1g3_SYM_word_list and context_SYM_word_list is 0.0024023569023569023\n",
      "rouge_1 of s2g1_SYM_word_list and context_SYM_word_list is 0.006654761904761905\n",
      "rouge_1 of s2g2_SYM_word_list and context_SYM_word_list is 0.004768518518518518\n",
      "rouge_1 of s2g3_SYM_word_list and context_SYM_word_list is 0.006432539682539683\n",
      "\n",
      "rouge_1 of s1g1_SYM_word_list and rest_words_SYM_word_list is 0.0021296296296296293\n",
      "rouge_1 of s1g2_SYM_word_list and rest_words_SYM_word_list is 0.0018518518518518517\n",
      "rouge_1 of s1g3_SYM_word_list and rest_words_SYM_word_list is 0.002685185185185185\n",
      "rouge_1 of s2g1_SYM_word_list and rest_words_SYM_word_list is 0.0030277777777777777\n",
      "rouge_1 of s2g2_SYM_word_list and rest_words_SYM_word_list is 0.0011666666666666668\n",
      "rouge_1 of s2g3_SYM_word_list and rest_words_SYM_word_list is 0.002694444444444444\n"
     ]
    }
   ],
   "source": [
    "cal_rouge_1_score('s1g1_SYM_word_list', \"context_SYM_word_list\")\n",
    "cal_rouge_1_score('s1g2_SYM_word_list', \"context_SYM_word_list\")\n",
    "cal_rouge_1_score('s1g3_SYM_word_list', \"context_SYM_word_list\")\n",
    "cal_rouge_1_score('s2g1_SYM_word_list', \"context_SYM_word_list\")\n",
    "cal_rouge_1_score('s2g2_SYM_word_list', \"context_SYM_word_list\")\n",
    "cal_rouge_1_score('s2g3_SYM_word_list', \"context_SYM_word_list\")\n",
    "\n",
    "print()\n",
    "\n",
    "cal_rouge_1_score('s1g1_SYM_word_list', \"rest_words_SYM_word_list\")\n",
    "cal_rouge_1_score('s1g2_SYM_word_list', \"rest_words_SYM_word_list\")\n",
    "cal_rouge_1_score('s1g3_SYM_word_list', \"rest_words_SYM_word_list\")\n",
    "cal_rouge_1_score('s2g1_SYM_word_list', \"rest_words_SYM_word_list\")\n",
    "cal_rouge_1_score('s2g2_SYM_word_list', \"rest_words_SYM_word_list\")\n",
    "cal_rouge_1_score('s2g3_SYM_word_list', \"rest_words_SYM_word_list\")\n",
    "\n",
    "#1080"
   ]
  },
  {
   "cell_type": "code",
   "execution_count": null,
   "id": "developed-packaging",
   "metadata": {},
   "outputs": [],
   "source": []
  }
 ],
 "metadata": {
  "kernelspec": {
   "display_name": "Python 3",
   "language": "python",
   "name": "python3"
  },
  "language_info": {
   "codemirror_mode": {
    "name": "ipython",
    "version": 3
   },
   "file_extension": ".py",
   "mimetype": "text/x-python",
   "name": "python",
   "nbconvert_exporter": "python",
   "pygments_lexer": "ipython3",
   "version": "3.8.5"
  }
 },
 "nbformat": 4,
 "nbformat_minor": 5
}
